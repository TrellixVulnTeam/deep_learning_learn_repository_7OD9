{
 "cells": [
  {
   "cell_type": "code",
   "execution_count": 1,
   "id": "e3d76266",
   "metadata": {},
   "outputs": [],
   "source": [
    "from mxnet import nd\n",
    "from mxnet.gluon import nn\n",
    "\n",
    "class MLP(nn.Block):\n",
    "    def __init__(self, **kwargs):\n",
    "        super(MLP, self).__init__(**kwargs)\n",
    "        self.hidden = nn.Dense(256, activation='relu')\n",
    "        self.output = nn.Dense(10)\n",
    "    def forward(self, x):\n",
    "        return self.output(self.hidden(x))\n"
   ]
  },
  {
   "cell_type": "code",
   "execution_count": 2,
   "id": "19c2d7aa",
   "metadata": {},
   "outputs": [
    {
     "data": {
      "text/plain": [
       "\n",
       "[[ 0.09543004  0.04614332 -0.00286655 -0.07790346 -0.05130241  0.02942038\n",
       "   0.08696645 -0.0190793  -0.04122177  0.05088576]\n",
       " [ 0.0769287   0.03099706  0.00856576 -0.044672   -0.06926838  0.09132431\n",
       "   0.06786592 -0.06187843 -0.03436674  0.04234696]]\n",
       "<NDArray 2x10 @cpu(0)>"
      ]
     },
     "execution_count": 2,
     "metadata": {},
     "output_type": "execute_result"
    }
   ],
   "source": [
    "X = nd.random.uniform(shape=(2, 20))\n",
    "net = MLP()\n",
    "net.initialize()\n",
    "net(X)"
   ]
  },
  {
   "cell_type": "code",
   "execution_count": 3,
   "id": "27e878f4",
   "metadata": {},
   "outputs": [],
   "source": [
    "#　Ｓｅｑｕｅｎｔｉａｌ继承自Ｂｌｏｃｋ类\n",
    "class Mysquential(nn.Block):\n",
    "    def __init__(self, **kwargs):\n",
    "        super(Mysquential, self).__init__(**kwargs)\n",
    "    \n",
    "    def add(self, block):\n",
    "        self._children[block.name] = block\n",
    "    \n",
    "    def forward(self ,x):\n",
    "        for block in self._children.values():\n",
    "            x = block(x)\n",
    "        return x\n"
   ]
  },
  {
   "cell_type": "code",
   "execution_count": 4,
   "id": "b742b47c",
   "metadata": {},
   "outputs": [
    {
     "data": {
      "text/plain": [
       "\n",
       "[[ 0.00362229  0.00633331  0.03201145 -0.01369375  0.10336448 -0.0350802\n",
       "  -0.00032165 -0.01676024  0.06978628  0.01303309]\n",
       " [ 0.03871717  0.02608212  0.03544958 -0.02521311  0.11005436 -0.01430663\n",
       "  -0.03052467 -0.03852826  0.06321152  0.0038594 ]]\n",
       "<NDArray 2x10 @cpu(0)>"
      ]
     },
     "execution_count": 4,
     "metadata": {},
     "output_type": "execute_result"
    }
   ],
   "source": [
    "net = Mysquential()\n",
    "net.add(nn.Dense(256, activation='relu'))\n",
    "net.add(nn.Dense(10))\n",
    "net.initialize()\n",
    "net(X)"
   ]
  },
  {
   "cell_type": "code",
   "execution_count": 5,
   "id": "2750b9ed",
   "metadata": {},
   "outputs": [],
   "source": [
    "# 复杂的模型\n",
    "class FancyMLP(nn.Block):\n",
    "    def __init__(self, **kwargs):\n",
    "        super(FancyMLP, self).__init__(**kwargs)\n",
    "        self.rand_weight = self.params.get_constant('rand_wight', nd.random.uniform(shape=(20, 20)))\n",
    "        self.dense = nn.Dense(20, activation='relu')\n",
    "    \n",
    "    def forward(self, x):\n",
    "        x = self.dense(x)\n",
    "        x = nd.relu(nd.dot(x, self.rand_weight.data()) + 1)\n",
    "        x = self.dense(x)\n",
    "        while x.norm().asscalar() > 1:\n",
    "            x /= 2\n",
    "        if x.norm().asscalar() <0.8:\n",
    "            x *= 10\n",
    "        return x.sum()"
   ]
  },
  {
   "cell_type": "code",
   "execution_count": 6,
   "id": "44c2647c",
   "metadata": {},
   "outputs": [
    {
     "data": {
      "text/plain": [
       "\n",
       "[18.571953]\n",
       "<NDArray 1 @cpu(0)>"
      ]
     },
     "execution_count": 6,
     "metadata": {},
     "output_type": "execute_result"
    }
   ],
   "source": [
    "net = FancyMLP()\n",
    "net.initialize()\n",
    "net(X)"
   ]
  },
  {
   "cell_type": "code",
   "execution_count": 7,
   "id": "fa3a1115",
   "metadata": {},
   "outputs": [
    {
     "data": {
      "text/plain": [
       "\n",
       "[24.86621]\n",
       "<NDArray 1 @cpu(0)>"
      ]
     },
     "execution_count": 7,
     "metadata": {},
     "output_type": "execute_result"
    }
   ],
   "source": [
    "class NestMLP(nn.Block):\n",
    "    def __init__(self, **kwargs):\n",
    "        super(NestMLP, self).__init__(**kwargs)\n",
    "        self.net = nn.Sequential()\n",
    "        self.net.add(nn.Dense(64, activation='relu')\n",
    "                    ,nn.Dense(32,activation='relu'))\n",
    "        self.dense = nn.Dense(16,activation='relu')\n",
    "    \n",
    "    def forward(self, x):\n",
    "        return self.dense(self.net(x))\n",
    "\n",
    "\n",
    "net = nn.Sequential()\n",
    "net.add(NestMLP(), nn.Dense(20), FancyMLP())\n",
    "net.initialize()\n",
    "net(X)"
   ]
  },
  {
   "cell_type": "code",
   "execution_count": 8,
   "id": "707e300e",
   "metadata": {},
   "outputs": [],
   "source": [
    "#　模型参数的访问、初始化、共享\n",
    "from mxnet import init"
   ]
  },
  {
   "cell_type": "code",
   "execution_count": 9,
   "id": "502a5c00",
   "metadata": {},
   "outputs": [
    {
     "data": {
      "text/plain": [
       "\n",
       "[[ 0.06281953  0.02262797 -0.04495928 -0.01636342  0.01223228 -0.02480634\n",
       "  -0.03506397 -0.05295734 -0.04518763 -0.09792533]\n",
       " [ 0.01386758 -0.02968636  0.01167846  0.01244943 -0.0305337  -0.02907136\n",
       "  -0.04247145 -0.02945885 -0.0278103  -0.05699407]]\n",
       "<NDArray 2x10 @cpu(0)>"
      ]
     },
     "execution_count": 9,
     "metadata": {},
     "output_type": "execute_result"
    }
   ],
   "source": [
    "net = nn.Sequential()\n",
    "net.add(nn.Dense(256, activation='relu'))\n",
    "net.add(nn.Dense(10))\n",
    "net.initialize()\n",
    "\n",
    "X = nd.random.uniform(shape=(2,20))\n",
    "Y = net(X)\n",
    "Y"
   ]
  },
  {
   "cell_type": "code",
   "execution_count": 10,
   "id": "faa8e77d",
   "metadata": {},
   "outputs": [
    {
     "data": {
      "text/plain": [
       "(dense10_ (\n",
       "   Parameter dense10_weight (shape=(256, 20), dtype=float32)\n",
       "   Parameter dense10_bias (shape=(256,), dtype=float32)\n",
       " ),\n",
       " mxnet.gluon.parameter.ParameterDict)"
      ]
     },
     "execution_count": 10,
     "metadata": {},
     "output_type": "execute_result"
    }
   ],
   "source": [
    "net[0].params, type(net[0].params)"
   ]
  },
  {
   "cell_type": "code",
   "execution_count": 12,
   "id": "f99ad442",
   "metadata": {},
   "outputs": [
    {
     "data": {
      "text/plain": [
       "(Parameter dense10_weight (shape=(256, 20), dtype=float32),\n",
       " Parameter dense10_weight (shape=(256, 20), dtype=float32))"
      ]
     },
     "execution_count": 12,
     "metadata": {},
     "output_type": "execute_result"
    }
   ],
   "source": [
    "net[0].params['dense10_weight'], net[0].weight"
   ]
  },
  {
   "cell_type": "code",
   "execution_count": 13,
   "id": "e2454b77",
   "metadata": {},
   "outputs": [
    {
     "data": {
      "text/plain": [
       "\n",
       "[[-0.06046963  0.00624272 -0.03472826 ... -0.01759475  0.0686483\n",
       "  -0.06360765]\n",
       " [-0.01273243 -0.02659053 -0.04718638 ...  0.02570021  0.02275064\n",
       "  -0.0166979 ]\n",
       " [-0.03555115  0.01875034  0.02322027 ...  0.06564643  0.04601197\n",
       "  -0.01915742]\n",
       " ...\n",
       " [ 0.03173313  0.01789995  0.02519771 ... -0.06176154 -0.03986754\n",
       "  -0.04898471]\n",
       " [ 0.00564718  0.04665586 -0.00028374 ...  0.05332779  0.02100175\n",
       "  -0.06427249]\n",
       " [ 0.0438781   0.05357236  0.02753124 ...  0.04084889 -0.01963295\n",
       "   0.05668835]]\n",
       "<NDArray 256x20 @cpu(0)>"
      ]
     },
     "execution_count": 13,
     "metadata": {},
     "output_type": "execute_result"
    }
   ],
   "source": [
    "net[0].weight.data()"
   ]
  },
  {
   "cell_type": "code",
   "execution_count": 14,
   "id": "f247a16c",
   "metadata": {},
   "outputs": [
    {
     "data": {
      "text/plain": [
       "\n",
       "[[0. 0. 0. ... 0. 0. 0.]\n",
       " [0. 0. 0. ... 0. 0. 0.]\n",
       " [0. 0. 0. ... 0. 0. 0.]\n",
       " ...\n",
       " [0. 0. 0. ... 0. 0. 0.]\n",
       " [0. 0. 0. ... 0. 0. 0.]\n",
       " [0. 0. 0. ... 0. 0. 0.]]\n",
       "<NDArray 256x20 @cpu(0)>"
      ]
     },
     "execution_count": 14,
     "metadata": {},
     "output_type": "execute_result"
    }
   ],
   "source": [
    "net[0].weight.grad()"
   ]
  },
  {
   "cell_type": "code",
   "execution_count": 15,
   "id": "cc68ef6d",
   "metadata": {},
   "outputs": [
    {
     "data": {
      "text/plain": [
       "\n",
       "[0. 0. 0. 0. 0. 0. 0. 0. 0. 0.]\n",
       "<NDArray 10 @cpu(0)>"
      ]
     },
     "execution_count": 15,
     "metadata": {},
     "output_type": "execute_result"
    }
   ],
   "source": [
    "net[1].bias.data()"
   ]
  },
  {
   "cell_type": "code",
   "execution_count": 16,
   "id": "d2ff91d2",
   "metadata": {},
   "outputs": [
    {
     "data": {
      "text/plain": [
       "sequential2_ (\n",
       "  Parameter dense10_weight (shape=(256, 20), dtype=float32)\n",
       "  Parameter dense11_weight (shape=(10, 256), dtype=float32)\n",
       ")"
      ]
     },
     "execution_count": 16,
     "metadata": {},
     "output_type": "execute_result"
    }
   ],
   "source": [
    "net.collect_params('.*weight')"
   ]
  },
  {
   "cell_type": "code",
   "execution_count": 18,
   "id": "7a239c40",
   "metadata": {},
   "outputs": [
    {
     "data": {
      "text/plain": [
       "\n",
       "[-0.00566084 -0.00395055 -0.00454888  0.00064433  0.00537331  0.00544384\n",
       " -0.0075568  -0.009151    0.0013665   0.00658129 -0.00482921 -0.00525734\n",
       " -0.00567577  0.00581563  0.00287522 -0.00044662  0.01271125 -0.00222826\n",
       " -0.00131304 -0.02350498]\n",
       "<NDArray 20 @cpu(0)>"
      ]
     },
     "execution_count": 18,
     "metadata": {},
     "output_type": "execute_result"
    }
   ],
   "source": [
    "net.initialize(init=init.Normal(sigma=0.01), force_reinit=True)\n",
    "net[0].weight.data()[0]"
   ]
  },
  {
   "cell_type": "code",
   "execution_count": 20,
   "id": "54f5d567",
   "metadata": {},
   "outputs": [
    {
     "data": {
      "text/plain": [
       "\n",
       "[-0.00572768 -0.00633937 -0.00251258 -0.00467908 -0.00969493  0.00605472\n",
       " -0.01847969  0.01177194  0.00769348  0.01019374 -0.01192946  0.00357285\n",
       "  0.00929739 -0.00075304 -0.00158822 -0.03007082  0.00256757  0.00213922\n",
       " -0.00118184  0.00639406]\n",
       "<NDArray 20 @cpu(0)>"
      ]
     },
     "execution_count": 20,
     "metadata": {},
     "output_type": "execute_result"
    }
   ],
   "source": [
    "net[0].weight.initialize(init=init.Normal(sigma=0.01), force_reinit=True)\n",
    "net[0].weight.data()[0]"
   ]
  },
  {
   "cell_type": "code",
   "execution_count": 23,
   "id": "dd57aca0",
   "metadata": {},
   "outputs": [
    {
     "name": "stdout",
     "output_type": "stream",
     "text": [
      "Init dense10_weight (256, 20)\n",
      "Init dense11_weight (10, 256)\n"
     ]
    },
    {
     "data": {
      "text/plain": [
       "\n",
       "[[ 9.476374   9.491772  -6.752841  ... -0.        -5.597923  -7.6391687]\n",
       " [ 0.         5.6946106 -7.7700787 ...  8.051603   0.        -0.       ]\n",
       " [-6.4700127  9.401562   8.783218  ...  0.         8.4343815 -9.806334 ]\n",
       " ...\n",
       " [-9.418693   8.645208   5.3656855 ... -0.        -0.        -6.5955944]\n",
       " [-5.9026556 -0.         7.778509  ...  0.        -0.         0.       ]\n",
       " [ 9.853041  -0.         0.        ...  9.013855  -9.360153  -0.       ]]\n",
       "<NDArray 256x20 @cpu(0)>"
      ]
     },
     "execution_count": 23,
     "metadata": {},
     "output_type": "execute_result"
    }
   ],
   "source": [
    "class MyInit(init.Initializer):\n",
    "    def _init_weight(self, name, data):\n",
    "        print(\"Init\", name, data.shape)\n",
    "        data[:] = nd.random.uniform(low=-10, high=10, shape=data.shape)\n",
    "        data *= data.abs() >= 5\n",
    "\n",
    "net.initialize(MyInit(), force_reinit=True)\n",
    "net[0].weight.data()"
   ]
  },
  {
   "cell_type": "code",
   "execution_count": 24,
   "id": "8f394ac4",
   "metadata": {},
   "outputs": [
    {
     "data": {
      "text/plain": [
       "\n",
       "[[10.476374  10.491772  -5.752841  ...  1.        -4.597923  -6.6391687]\n",
       " [ 1.         6.6946106 -6.7700787 ...  9.051603   1.         1.       ]\n",
       " [-5.4700127 10.401562   9.783218  ...  1.         9.4343815 -8.806334 ]\n",
       " ...\n",
       " [-8.418693   9.645208   6.3656855 ...  1.         1.        -5.5955944]\n",
       " [-4.9026556  1.         8.778509  ...  1.         1.         1.       ]\n",
       " [10.853041   1.         1.        ... 10.013855  -8.360153   1.       ]]\n",
       "<NDArray 256x20 @cpu(0)>"
      ]
     },
     "execution_count": 24,
     "metadata": {},
     "output_type": "execute_result"
    }
   ],
   "source": [
    "net[0].weight.set_data(net[0].weight.data()+1)\n",
    "net[0].weight.data()"
   ]
  },
  {
   "cell_type": "code",
   "execution_count": 27,
   "id": "0dba706f",
   "metadata": {},
   "outputs": [
    {
     "data": {
      "text/plain": [
       "\n",
       "[1. 1. 1. 1. 1. 1. 1. 1.]\n",
       "<NDArray 8 @cpu(0)>"
      ]
     },
     "execution_count": 27,
     "metadata": {},
     "output_type": "execute_result"
    }
   ],
   "source": [
    "net = nn.Sequential()\n",
    "shared = nn.Dense(8, activation='relu')\n",
    "net.add(nn.Dense(8, activation='relu'),\n",
    "       shared,\n",
    "       nn.Dense(8, activation='relu', params=shared.params),\n",
    "       nn.Dense(10))\n",
    "net.initialize()\n",
    "\n",
    "X = nd.random.uniform(shape=(2, 20))\n",
    "net(X)\n",
    "\n",
    "net[1].weight.data()[0] == net[2].weight.data()[0]"
   ]
  },
  {
   "cell_type": "code",
   "execution_count": 28,
   "id": "95bc847f",
   "metadata": {},
   "outputs": [],
   "source": [
    "class MyInit(init.Initializer):\n",
    "    def _init_weight(self, name, data):\n",
    "        print(\"Init\", name, data.shape)\n",
    "\n",
    "net = nn.Sequential()\n",
    "net.add(nn.Dense(256, activation='relu'),\n",
    "       nn.Dense(10))\n",
    "net.initialize(MyInit(), force_reinit=True)"
   ]
  },
  {
   "cell_type": "code",
   "execution_count": 29,
   "id": "d967f7e3",
   "metadata": {},
   "outputs": [
    {
     "name": "stdout",
     "output_type": "stream",
     "text": [
      "Init dense20_weight (256, 20)\n",
      "Init dense21_weight (10, 256)\n"
     ]
    }
   ],
   "source": [
    "X = nd.random.uniform(shape=(2, 20))\n",
    "Y = net(X)"
   ]
  },
  {
   "cell_type": "code",
   "execution_count": 30,
   "id": "e6d189c8",
   "metadata": {},
   "outputs": [
    {
     "name": "stdout",
     "output_type": "stream",
     "text": [
      "Init dense20_weight (256, 20)\n",
      "Init dense21_weight (10, 256)\n"
     ]
    }
   ],
   "source": [
    "net.initialize(MyInit(),force_reinit=True)"
   ]
  },
  {
   "cell_type": "code",
   "execution_count": null,
   "id": "3da4c5a1",
   "metadata": {},
   "outputs": [],
   "source": [
    "net = nn.Sequential()\n",
    "net.add(nn.Dense(256, in_units=10, activation='relu'),\n",
    "       nn.Dense(10, in_units=256))\n",
    "net.initialize(MyInit(), force_reinit=True)"
   ]
  }
 ],
 "metadata": {
  "kernelspec": {
   "display_name": "Python 3",
   "language": "python",
   "name": "python3"
  },
  "language_info": {
   "codemirror_mode": {
    "name": "ipython",
    "version": 3
   },
   "file_extension": ".py",
   "mimetype": "text/x-python",
   "name": "python",
   "nbconvert_exporter": "python",
   "pygments_lexer": "ipython3",
   "version": "3.6.13"
  }
 },
 "nbformat": 4,
 "nbformat_minor": 5
}
