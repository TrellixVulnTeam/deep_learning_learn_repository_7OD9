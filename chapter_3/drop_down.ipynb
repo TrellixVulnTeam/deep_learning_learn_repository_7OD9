{
 "cells": [
  {
   "cell_type": "code",
   "execution_count": 1,
   "id": "58d4a1b3",
   "metadata": {},
   "outputs": [],
   "source": [
    "import d2lzh as d2l\n",
    "from mxnet import autograd, gluon, init, nd\n",
    "from mxnet.gluon import nn ,loss as gloss, data as gdata\n",
    "\n",
    "def dropout(X, drop_prob):\n",
    "    assert 0 <=drop_prob <=1\n",
    "    keep_prob = 1 - drop_prob\n",
    "    if keep_prob == 0:\n",
    "        return X.zeros_like()\n",
    "    mask = nd.random.uniform(0, 1, X.shape) < keep_prob\n",
    "    return mask*X/keep_prob"
   ]
  },
  {
   "cell_type": "code",
   "execution_count": 2,
   "id": "7d0c16f4",
   "metadata": {},
   "outputs": [],
   "source": [
    "# 定义模型参数\n",
    "num_inputs, num_outputs, num_hiddens1, num_hiddens2 = 784, 10, 256, 256\n",
    "\n",
    "W1 = nd.random.normal(scale=0.01, shape=(num_inputs, num_hiddens1))\n",
    "b1 = nd.zeros(num_hiddens1)\n",
    "W2 = nd.random.normal(scale=0.01, shape=(num_hiddens1, num_hiddens2))\n",
    "b2 = nd.zeros(num_hiddens2)\n",
    "W3 = nd.random.normal(scale=0.01, shape=(num_hiddens2, num_outputs))\n",
    "b3 = nd.zeros(num_outputs)\n",
    "\n",
    "params = [W1, b1, W2 , b2, W3, b3]\n",
    "for param in params:\n",
    "    param.attach_grad()\n"
   ]
  },
  {
   "cell_type": "code",
   "execution_count": 3,
   "id": "bba05972",
   "metadata": {},
   "outputs": [],
   "source": [
    "# 定义丢弃法模型\n",
    "drop_prob1, drop_prob2 = 0.2,0.5  # 超参数\n",
    "\n",
    "def net(X):\n",
    "    X = X.reshape((-1, num_inputs))\n",
    "    H1 = (nd.dot(X,W1)+b1).relu()\n",
    "    if autograd.is_training():\n",
    "        # 只在训练过程中使用丢弃法\n",
    "        H1 = dropout(H1, drop_prob1)\n",
    "    H2 = (nd.dot(H1, W2)+b2).relu()\n",
    "    if autograd.is_training():\n",
    "        H2 = dropout(H2, drop_prob2)\n",
    "    O = nd.dot(H2, W3) + b3\n",
    "    return O"
   ]
  },
  {
   "cell_type": "code",
   "execution_count": 4,
   "id": "cc9cedd8",
   "metadata": {},
   "outputs": [],
   "source": [
    "# 训练模型和测试模型"
   ]
  },
  {
   "cell_type": "code",
   "execution_count": 5,
   "id": "89f24f2d",
   "metadata": {},
   "outputs": [
    {
     "name": "stdout",
     "output_type": "stream",
     "text": [
      "epoch 1, loss 1.1519, train acc 0.546, test acc 0.790\n",
      "epoch 2, loss 0.5916, train acc 0.780, test acc 0.830\n",
      "epoch 3, loss 0.4983, train acc 0.816, test acc 0.843\n",
      "epoch 4, loss 0.4545, train acc 0.834, test acc 0.859\n",
      "epoch 5, loss 0.4264, train acc 0.845, test acc 0.851\n"
     ]
    }
   ],
   "source": [
    "num_epochs, batch_size,lr = 5, 256, 0.5\n",
    "loss = gloss.SoftmaxCrossEntropyLoss()\n",
    "train_iter, test_iter = d2l.load_data_fashion_mnist(batch_size)\n",
    "d2l.train_ch3(net, train_iter , test_iter, loss, num_epochs, batch_size, params, lr)\n",
    "# 可以看到有效解决了过拟合的问题 深度学习中的多层神经网络经常用到这个方法"
   ]
  },
  {
   "cell_type": "code",
   "execution_count": 7,
   "id": "25d9a2d7",
   "metadata": {},
   "outputs": [],
   "source": [
    "# 简易版\n",
    "# 模型\n",
    "net = nn.Sequential()\n",
    "net.add(nn.Dense(256, activation=\"relu\"),\n",
    "        nn.Dropout(drop_prob1),\n",
    "        nn.Dense(256, activation=\"relu\"),\n",
    "        nn.Dropout(drop_prob2),\n",
    "        nn.Dense(10)\n",
    ")\n",
    "net.initialize(init.Normal(sigma=0.01))"
   ]
  },
  {
   "cell_type": "code",
   "execution_count": 9,
   "id": "aba8c6c1",
   "metadata": {},
   "outputs": [
    {
     "name": "stdout",
     "output_type": "stream",
     "text": [
      "epoch 1, loss 1.2911, train acc 0.511, test acc 0.750\n",
      "epoch 2, loss 0.6151, train acc 0.772, test acc 0.832\n",
      "epoch 3, loss 0.5124, train acc 0.814, test acc 0.845\n",
      "epoch 4, loss 0.4666, train acc 0.828, test acc 0.857\n",
      "epoch 5, loss 0.4342, train acc 0.842, test acc 0.858\n"
     ]
    }
   ],
   "source": [
    "trainer = gluon.Trainer(net.collect_params(),'sgd', {'learning_rate':lr})\n",
    "d2l.train_ch3(net, train_iter , test_iter, loss, num_epochs, batch_size, None, None, trainer)"
   ]
  }
 ],
 "metadata": {
  "kernelspec": {
   "display_name": "Python 3",
   "language": "python",
   "name": "python3"
  },
  "language_info": {
   "codemirror_mode": {
    "name": "ipython",
    "version": 3
   },
   "file_extension": ".py",
   "mimetype": "text/x-python",
   "name": "python",
   "nbconvert_exporter": "python",
   "pygments_lexer": "ipython3",
   "version": "3.6.2"
  }
 },
 "nbformat": 4,
 "nbformat_minor": 5
}
