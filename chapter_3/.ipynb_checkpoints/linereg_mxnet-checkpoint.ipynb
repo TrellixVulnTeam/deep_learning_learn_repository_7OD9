{
 "cells": [
  {
   "cell_type": "code",
   "execution_count": 1,
   "id": "cd413a9a",
   "metadata": {},
   "outputs": [],
   "source": [
    "# 生成数据集\n",
    "from mxnet import autograd, nd\n",
    "\n",
    "num_inputs = 2\n",
    "num_examples = 1000\n",
    "true_w = [2, -3.4]\n",
    "true_b = 4.2\n",
    "features = nd.random.normal(scale=1, shape=(num_examples, num_inputs))\n",
    "labels = true_w[0] * features[:,0] + true_w[1] * features[:,1] + true_b\n",
    "labels += nd.random.normal(scale=0.01, shape=labels.shape)"
   ]
  },
  {
   "cell_type": "code",
   "execution_count": 2,
   "id": "9ef71026",
   "metadata": {},
   "outputs": [],
   "source": [
    "# Gluon 提供了data包读取数据\n",
    "\n",
    "from mxnet.gluon import data as gdata\n",
    "\n",
    "batch_size = 10\n",
    "# 将训练数据的特征和标签组合\n",
    "dataset = gdata.ArrayDataset(features, labels)\n",
    "# 随机读取min-batch\n",
    "data_iter = gdata.DataLoader(dataset, batch_size, shuffle=True)"
   ]
  },
  {
   "cell_type": "code",
   "execution_count": 3,
   "id": "89f45028",
   "metadata": {},
   "outputs": [
    {
     "name": "stdout",
     "output_type": "stream",
     "text": [
      "\n",
      "[[-0.0231653   0.24270466]\n",
      " [-2.302824    1.6881202 ]\n",
      " [-0.2082278   1.1514316 ]\n",
      " [-0.71065867  0.905795  ]\n",
      " [ 2.2009723   1.1375155 ]\n",
      " [ 0.23925357  0.70636714]\n",
      " [ 0.7522956   0.05499776]\n",
      " [-1.1973041  -0.0251092 ]\n",
      " [-0.5946158   0.24630979]\n",
      " [-0.70676684 -0.93293166]]\n",
      "<NDArray 10x2 @cpu(0)> \n",
      "[ 3.3286207  -6.155135   -0.12962557 -0.30060866  4.735864    2.2839608\n",
      "  5.5217113   1.8984183   2.1693642   5.962934  ]\n",
      "<NDArray 10 @cpu(0)>\n"
     ]
    }
   ],
   "source": [
    "for X,y in data_iter:\n",
    "    print(X,y)\n",
    "    break"
   ]
  },
  {
   "cell_type": "code",
   "execution_count": 4,
   "id": "b4e27bd4",
   "metadata": {},
   "outputs": [],
   "source": [
    "# 导入neural network nn模块\n",
    "from mxnet.gluon import nn\n",
    "\n",
    "net = nn.Sequential() # Sequential是能串联各个层的容器"
   ]
  },
  {
   "cell_type": "code",
   "execution_count": 5,
   "id": "d11bc204",
   "metadata": {},
   "outputs": [],
   "source": [
    "net.add(nn.Dense(1)) # 一个Dense实例 ，输出个数为1  全连接层"
   ]
  },
  {
   "cell_type": "code",
   "execution_count": 6,
   "id": "47f16649",
   "metadata": {},
   "outputs": [],
   "source": [
    "from mxnet import init\n",
    "net.initialize(init.Normal(sigma=0.01))# 正态分布初始化 标准差为0.01 均值为0"
   ]
  },
  {
   "cell_type": "code",
   "execution_count": 7,
   "id": "d6a3653f",
   "metadata": {},
   "outputs": [],
   "source": [
    "# 定义损失函数\n",
    "from mxnet.gluon import loss as gloss\n",
    "loss = gloss.L2Loss() # 平方损失又叫做L2范数损失"
   ]
  },
  {
   "cell_type": "code",
   "execution_count": 9,
   "id": "66575770",
   "metadata": {},
   "outputs": [],
   "source": [
    "# 定义优化算法\n",
    "from mxnet import gluon\n",
    "trainer = gluon.Trainer(net.collect_params(), 'sgd', {'learning_rate':0.03})"
   ]
  },
  {
   "cell_type": "code",
   "execution_count": 14,
   "id": "bda7a82b",
   "metadata": {},
   "outputs": [
    {
     "name": "stdout",
     "output_type": "stream",
     "text": [
      "epoch 1, loss 0.000048\n",
      "epoch 2, loss 0.000048\n",
      "epoch 3, loss 0.000048\n"
     ]
    }
   ],
   "source": [
    "# 训练模型\n",
    "num_epochs = 3\n",
    "for epoch in range(1, num_epochs + 1):\n",
    "    for X, y in data_iter:\n",
    "        with autograd.record():\n",
    "            l = loss(net(X), y)\n",
    "        l.backward()\n",
    "        trainer.step(batch_size)\n",
    "    l = loss(net(features), labels)\n",
    "    print('epoch %d, loss %f'%(epoch, l.mean().asnumpy()))"
   ]
  },
  {
   "cell_type": "code",
   "execution_count": 15,
   "id": "67756f3c",
   "metadata": {},
   "outputs": [
    {
     "data": {
      "text/plain": [
       "([2, -3.4],\n",
       " \n",
       " [[ 1.9995257 -3.4003038]]\n",
       " <NDArray 1x2 @cpu(0)>)"
      ]
     },
     "execution_count": 15,
     "metadata": {},
     "output_type": "execute_result"
    }
   ],
   "source": [
    "dense = net[0]\n",
    "true_w,dense.weight.data()"
   ]
  },
  {
   "cell_type": "code",
   "execution_count": 16,
   "id": "20acd9e1",
   "metadata": {},
   "outputs": [
    {
     "data": {
      "text/plain": [
       "(4.2,\n",
       " \n",
       " [4.20052]\n",
       " <NDArray 1 @cpu(0)>)"
      ]
     },
     "execution_count": 16,
     "metadata": {},
     "output_type": "execute_result"
    }
   ],
   "source": [
    "true_b, dense.bias.data()"
   ]
  },
  {
   "cell_type": "code",
   "execution_count": null,
   "id": "56ffa502",
   "metadata": {},
   "outputs": [],
   "source": [
    "# 简易线性回归"
   ]
  }
 ],
 "metadata": {
  "kernelspec": {
   "display_name": "Python 3",
   "language": "python",
   "name": "python3"
  },
  "language_info": {
   "codemirror_mode": {
    "name": "ipython",
    "version": 3
   },
   "file_extension": ".py",
   "mimetype": "text/x-python",
   "name": "python",
   "nbconvert_exporter": "python",
   "pygments_lexer": "ipython3",
   "version": "3.6.2"
  }
 },
 "nbformat": 4,
 "nbformat_minor": 5
}
