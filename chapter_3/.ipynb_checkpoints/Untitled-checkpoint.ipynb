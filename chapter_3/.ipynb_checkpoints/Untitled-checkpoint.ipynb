{
 "cells": [
  {
   "cell_type": "code",
   "execution_count": 2,
   "id": "da345128",
   "metadata": {},
   "outputs": [],
   "source": [
    "# 高维线性回归\n",
    "%matplotlib inline\n",
    "import d2lzh as d2l\n",
    "from mxnet import autograd, gluon, nd, init\n",
    "from mxnet.gluon import data as gdata, loss as gloss, nn\n",
    "\n",
    "n_train, n_test, num_inputs = 20,100,200\n",
    "true_w, true_b = nd.ones((num_inputs, 1))*0.01, 0.05\n",
    "\n",
    "features = nd.random.normal(shape=(n_train+n_test, num_inputs))\n",
    "labels = nd.dot(features,true_w) + true_b\n",
    "labels += nd.random.normal(scale=0.01, shape=labels.shape)\n",
    "train_features, test_features = features[:n_train], features[n_train:]\n",
    "train_labels, test_labels = labels[:n_train], labels[n_train:]"
   ]
  },
  {
   "cell_type": "code",
   "execution_count": 3,
   "id": "d144458d",
   "metadata": {},
   "outputs": [],
   "source": [
    "# 初始化模型参数\n",
    "def init_params():\n",
    "    W = nd.random.normal(scale=0.01, shape=(num_inputs,1))\n",
    "    b = nd.zeros(shape=(1,))\n",
    "    W.attach_grad()\n",
    "    b.attach_grad()\n",
    "    return [W,b]"
   ]
  },
  {
   "cell_type": "code",
   "execution_count": 4,
   "id": "a69965e2",
   "metadata": {},
   "outputs": [],
   "source": [
    "def le_penalty(w):\n",
    "    return (w**2).sum()/2 # L2 惩罚项"
   ]
  },
  {
   "cell_type": "code",
   "execution_count": null,
   "id": "5d2adcb4",
   "metadata": {},
   "outputs": [],
   "source": [
    "batch_size, num_epochs, lr =1, 100, 0.03\n",
    "net, loss = d2l.linreg, d2l.squared_loss\n",
    "train_iter = gdata.DataLoader(gdata.ArrayDataset(train_features, train_labels), bathc_size, shuffle=True)\n",
    "\n",
    "def fit_and_plot(lambd):\n",
    "    w, b = init_params()\n",
    "    train_ls, test_ls = [], []\n",
    "    for _ in range(num_epochs):\n",
    "        for X, y in train_iter:\n",
    "            with autograd.record():\n",
    "                l = loss(net(X, W, b), y) + lambd*l2_penalty(w)\n",
    "            l.backward()\n",
    "            d2l.sgd([w,b], lr, batch_size)\n",
    "        train_ls.append(loss(net(train_features), train_labels).mean().asscalar())\n",
    "        test_ls.append(loss(net(test_features),test_labels).mean().asscalar())\n",
    "     semilopy(range(1, num_epochs+1), train_ls, 'epochs', 'loss',\n",
    "             range(1, num_epochs+1), test_ls, ['train', 'test'])"
   ]
  }
 ],
 "metadata": {
  "kernelspec": {
   "display_name": "Python 3",
   "language": "python",
   "name": "python3"
  },
  "language_info": {
   "codemirror_mode": {
    "name": "ipython",
    "version": 3
   },
   "file_extension": ".py",
   "mimetype": "text/x-python",
   "name": "python",
   "nbconvert_exporter": "python",
   "pygments_lexer": "ipython3",
   "version": "3.6.2"
  }
 },
 "nbformat": 4,
 "nbformat_minor": 5
}
