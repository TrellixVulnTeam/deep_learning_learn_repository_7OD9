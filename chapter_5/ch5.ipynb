{
 "cells": [
  {
   "cell_type": "code",
   "execution_count": 2,
   "id": "66f108dc",
   "metadata": {},
   "outputs": [],
   "source": [
    "from mxnet import autograd, nd\n",
    "from mxnet.gluon import nn\n",
    "\n",
    "def corr2d(X, K):\n",
    "    h, w = K.shape\n",
    "    Y = nd.zeros((X.shape[0]-h + 1, X.shape[1] -w +1))\n",
    "    for i in range(Y.shape[0]):\n",
    "        for j in range(Y.shape[1]):\n",
    "            Y[i,j] = (X[i: i+h, j:j+w]*K).sum()\n",
    "    return Y\n"
   ]
  },
  {
   "cell_type": "code",
   "execution_count": 3,
   "id": "b37a51dd",
   "metadata": {},
   "outputs": [
    {
     "data": {
      "text/plain": "\n[[19. 25.]\n [37. 43.]]\n<NDArray 2x2 @cpu(0)>"
     },
     "execution_count": 3,
     "metadata": {},
     "output_type": "execute_result"
    }
   ],
   "source": [
    "X = nd.array([[0,1,2],[3,4,5],[6,7,8]])\n",
    "K = nd.array([[0,1],[2,3]])\n",
    "corr2d(X, K)"
   ]
  },
  {
   "cell_type": "code",
   "execution_count": 4,
   "id": "ff24958d",
   "metadata": {},
   "outputs": [],
   "source": [
    "class Conv2D(nn.Block):\n",
    "    def __init__(self, kernel_size, **kwargs):\n",
    "        super(Conv2D, self).__init__(**kwargs)\n",
    "        self.weight = self.params.get('weight', shape=kernel_size)\n",
    "        self.bias = self.params.get('bias', shape=(1, ))\n",
    "    \n",
    "    def forward(self, x):\n",
    "        return corr2d(x, self.weight.data())+self.bias.data()\n",
    "    \n",
    "# 卷积层"
   ]
  },
  {
   "cell_type": "code",
   "execution_count": 5,
   "id": "d718c2c8",
   "metadata": {},
   "outputs": [
    {
     "data": {
      "text/plain": "\n[[1. 1. 0. 0. 0. 0. 1. 1.]\n [1. 1. 0. 0. 0. 0. 1. 1.]\n [1. 1. 0. 0. 0. 0. 1. 1.]\n [1. 1. 0. 0. 0. 0. 1. 1.]\n [1. 1. 0. 0. 0. 0. 1. 1.]\n [1. 1. 0. 0. 0. 0. 1. 1.]]\n<NDArray 6x8 @cpu(0)>"
     },
     "execution_count": 5,
     "metadata": {},
     "output_type": "execute_result"
    }
   ],
   "source": [
    "# 检测边缘 卷积层的一个小应用 构造边缘\n",
    "X = nd.ones((6,8))\n",
    "X[:, 2:6] = 0\n",
    "X"
   ]
  },
  {
   "cell_type": "code",
   "execution_count": 6,
   "id": "e6519955",
   "metadata": {},
   "outputs": [],
   "source": [
    "K = nd.array([[1, -1]])\n",
    "# 构造内核  相邻元素相同则为0 ， 相邻元素不相同不是0"
   ]
  },
  {
   "cell_type": "code",
   "execution_count": 7,
   "id": "05ef606d",
   "metadata": {},
   "outputs": [
    {
     "data": {
      "text/plain": "\n[[ 0.  1.  0.  0.  0. -1.  0.]\n [ 0.  1.  0.  0.  0. -1.  0.]\n [ 0.  1.  0.  0.  0. -1.  0.]\n [ 0.  1.  0.  0.  0. -1.  0.]\n [ 0.  1.  0.  0.  0. -1.  0.]\n [ 0.  1.  0.  0.  0. -1.  0.]]\n<NDArray 6x7 @cpu(0)>"
     },
     "execution_count": 7,
     "metadata": {},
     "output_type": "execute_result"
    }
   ],
   "source": [
    "Y = corr2d(X, K)\n",
    "Y"
   ]
  },
  {
   "cell_type": "code",
   "execution_count": 8,
   "id": "4274d6d4",
   "metadata": {},
   "outputs": [],
   "source": [
    "conv2d = nn.Conv2D(1, kernel_size=(1, 2))\n",
    "conv2d.initialize()"
   ]
  },
  {
   "cell_type": "code",
   "execution_count": 9,
   "id": "8d538cf5",
   "metadata": {},
   "outputs": [
    {
     "name": "stdout",
     "output_type": "stream",
     "text": [
      "batch 2, loss 4.949\n",
      "batch 4, loss 0.831\n",
      "batch 6, loss 0.140\n",
      "batch 8, loss 0.024\n",
      "batch 10, loss 0.004\n"
     ]
    }
   ],
   "source": [
    "X = X.reshape(1,1,6,8)\n",
    "Y = Y.reshape(1,1,6,7)\n",
    "\n",
    "for i in range(10):\n",
    "    with autograd.record():\n",
    "        Y_hat = conv2d(X)\n",
    "        l = (Y_hat - Y) **2\n",
    "    l.backward()\n",
    "    conv2d.weight.data()[:] -= 3e-2 * conv2d.weight.grad()\n",
    "    if (i+1) % 2 == 0:\n",
    "        print(\"batch %d, loss %.3f\" % (i+1, l.sum().asscalar()))"
   ]
  },
  {
   "cell_type": "code",
   "execution_count": 10,
   "id": "eb57dc5f",
   "metadata": {},
   "outputs": [
    {
     "data": {
      "text/plain": "\n[[ 0.9895    -0.9873705]]\n<NDArray 1x2 @cpu(0)>"
     },
     "execution_count": 10,
     "metadata": {},
     "output_type": "execute_result"
    }
   ],
   "source": [
    "conv2d.weight.data().reshape((1,2))"
   ]
  },
  {
   "cell_type": "code",
   "execution_count": 11,
   "id": "1947d7c0",
   "metadata": {},
   "outputs": [
    {
     "data": {
      "text/plain": "(8, 8)"
     },
     "execution_count": 11,
     "metadata": {},
     "output_type": "execute_result"
    }
   ],
   "source": [
    "def comp_conv2d(conv2d, X):\n",
    "    conv2d.initialize()\n",
    "    X = X.reshape((1,1) + X.shape)\n",
    "    Y = conv2d(X)\n",
    "    return Y.reshape(Y.shape[2:])\n",
    "\n",
    "conv2d = nn.Conv2D(1, kernel_size=3, padding=1)\n",
    "X =nd.random.uniform(shape=(8 , 8))\n",
    "comp_conv2d(conv2d, X).shape"
   ]
  },
  {
   "cell_type": "code",
   "execution_count": 12,
   "id": "6c90cd59",
   "metadata": {
    "pycharm": {
     "name": "#%%\n"
    }
   },
   "outputs": [
    {
     "data": {
      "text/plain": "(4, 4)"
     },
     "execution_count": 12,
     "metadata": {},
     "output_type": "execute_result"
    }
   ],
   "source": [
    "conv2d = nn.Conv2D(1 ,kernel_size=3 , padding=1, strides=2)\n",
    "comp_conv2d(conv2d, X).shape"
   ]
  },
  {
   "cell_type": "code",
   "execution_count": 13,
   "outputs": [
    {
     "data": {
      "text/plain": "(2, 2)"
     },
     "execution_count": 13,
     "metadata": {},
     "output_type": "execute_result"
    }
   ],
   "source": [
    "conv2d = nn.Conv2D(1, kernel_size=(3, 5), padding=(0, 1), strides=(3, 4))\n",
    "comp_conv2d(conv2d, X).shape"
   ],
   "metadata": {
    "collapsed": false,
    "pycharm": {
     "name": "#%%\n"
    }
   }
  },
  {
   "cell_type": "code",
   "execution_count": null,
   "outputs": [],
   "source": [],
   "metadata": {
    "collapsed": false,
    "pycharm": {
     "name": "#%%\n"
    }
   }
  }
 ],
 "metadata": {
  "kernelspec": {
   "display_name": "Python 3",
   "language": "python",
   "name": "python3"
  },
  "language_info": {
   "codemirror_mode": {
    "name": "ipython",
    "version": 3
   },
   "file_extension": ".py",
   "mimetype": "text/x-python",
   "name": "python",
   "nbconvert_exporter": "python",
   "pygments_lexer": "ipython3",
   "version": "3.6.13"
  }
 },
 "nbformat": 4,
 "nbformat_minor": 5
}