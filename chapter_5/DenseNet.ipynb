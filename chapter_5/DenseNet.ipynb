{
 "cells": [
  {
   "cell_type": "code",
   "execution_count": 1,
   "metadata": {
    "collapsed": true
   },
   "outputs": [],
   "source": [
    "import d2lzh as d2l\n",
    "from mxnet import gluon, init, nd\n",
    "from mxnet.gluon import nn\n",
    "\n",
    "def conv_block(num_channels):\n",
    "    blk = nn.Sequential()\n",
    "    blk.add(nn.BatchNorm(), nn.Activation('relu'),\n",
    "            nn.Conv2D(num_channels, kernel_size=3, padding=1))\n",
    "    return blk"
   ]
  },
  {
   "cell_type": "code",
   "execution_count": 2,
   "outputs": [],
   "source": [
    "class DenseBlock(nn.Block):\n",
    "    def __init__(self, num_convs, num_channels, **kwargs):\n",
    "        super(DenseBlock, self).__init__(**kwargs)\n",
    "        self.net = nn.Sequential()\n",
    "        for _ in range(num_convs):\n",
    "            self.net.add(conv_block(num_channels))\n",
    "\n",
    "    def forward(self, X):\n",
    "        for blk in self.net:\n",
    "            Y = blk(X)\n",
    "            X = nd.concat(X, Y, dim=1)\n",
    "        return X"
   ],
   "metadata": {
    "collapsed": false,
    "pycharm": {
     "name": "#%%\n"
    }
   }
  },
  {
   "cell_type": "code",
   "execution_count": 3,
   "outputs": [
    {
     "data": {
      "text/plain": "(4, 23, 8, 8)"
     },
     "execution_count": 3,
     "metadata": {},
     "output_type": "execute_result"
    }
   ],
   "source": [
    "blk = DenseBlock(2, 10)\n",
    "blk.initialize()\n",
    "X = nd.random.uniform(shape=(4,3,8,8))\n",
    "Y = blk(X)\n",
    "Y.shape"
   ],
   "metadata": {
    "collapsed": false,
    "pycharm": {
     "name": "#%%\n"
    }
   }
  },
  {
   "cell_type": "code",
   "execution_count": 4,
   "outputs": [],
   "source": [
    "def transition_block(num_channels):\n",
    "    blk = nn.Sequential()\n",
    "    blk.add(nn.BatchNorm(), nn.Activation('relu'),\n",
    "            nn.Conv2D(num_channels, kernel_size=1),\n",
    "            nn.AvgPool2D(pool_size=2, strides=2))\n",
    "    return blk"
   ],
   "metadata": {
    "collapsed": false,
    "pycharm": {
     "name": "#%%\n"
    }
   }
  },
  {
   "cell_type": "code",
   "execution_count": 5,
   "outputs": [
    {
     "data": {
      "text/plain": "(4, 10, 4, 4)"
     },
     "execution_count": 5,
     "metadata": {},
     "output_type": "execute_result"
    }
   ],
   "source": [
    "blk = transition_block(10)\n",
    "blk.initialize()\n",
    "blk(Y).shape"
   ],
   "metadata": {
    "collapsed": false,
    "pycharm": {
     "name": "#%%\n"
    }
   }
  },
  {
   "cell_type": "code",
   "execution_count": 6,
   "outputs": [],
   "source": [
    "net = nn.Sequential()\n",
    "net.add(nn.Conv2D(64, kernel_size=7, strides=2, padding=3),\n",
    "        nn.BatchNorm(), nn.Activation('relu'),\n",
    "        nn.MaxPool2D(pool_size=3, strides=2, padding=1))\n",
    "# 第一个模块同ResNet"
   ],
   "metadata": {
    "collapsed": false,
    "pycharm": {
     "name": "#%%\n"
    }
   }
  },
  {
   "cell_type": "code",
   "execution_count": 9,
   "outputs": [],
   "source": [
    "num_channels, growth_rate = 32, 16\n",
    "num_convs_in_dense_blocks = [2, 4, 4, 4]\n",
    "\n",
    "for i, num_convs in enumerate(num_convs_in_dense_blocks):\n",
    "    net.add(DenseBlock(num_convs, growth_rate))\n",
    "    # 上一个稠密块输出的通道数\n",
    "    num_channels += num_convs*growth_rate\n",
    "    if i != len(num_convs_in_dense_blocks)-1:\n",
    "        num_channels //= 2\n",
    "        net.add(transition_block(num_channels))\n",
    "\n",
    "net.add(nn.BatchNorm(), nn.Activation('relu'), nn.GlobalAvgPool2D(), nn.Dense(10))"
   ],
   "metadata": {
    "collapsed": false,
    "pycharm": {
     "name": "#%%\n"
    }
   }
  },
  {
   "cell_type": "code",
   "execution_count": 10,
   "outputs": [
    {
     "name": "stderr",
     "output_type": "stream",
     "text": [
      "C:\\Users\\gooudan\\miniconda3\\envs\\dl\\lib\\site-packages\\mxnet\\gluon\\parameter.py:862: UserWarning: Parameter 'conv3_weight' is already initialized, ignoring. Set force_reinit=True to re-initialize.\n",
      "  v.initialize(None, ctx, init, force_reinit=force_reinit)\n",
      "C:\\Users\\gooudan\\miniconda3\\envs\\dl\\lib\\site-packages\\mxnet\\gluon\\parameter.py:862: UserWarning: Parameter 'conv3_bias' is already initialized, ignoring. Set force_reinit=True to re-initialize.\n",
      "  v.initialize(None, ctx, init, force_reinit=force_reinit)\n",
      "C:\\Users\\gooudan\\miniconda3\\envs\\dl\\lib\\site-packages\\mxnet\\gluon\\parameter.py:862: UserWarning: Parameter 'batchnorm3_gamma' is already initialized, ignoring. Set force_reinit=True to re-initialize.\n",
      "  v.initialize(None, ctx, init, force_reinit=force_reinit)\n",
      "C:\\Users\\gooudan\\miniconda3\\envs\\dl\\lib\\site-packages\\mxnet\\gluon\\parameter.py:862: UserWarning: Parameter 'batchnorm3_beta' is already initialized, ignoring. Set force_reinit=True to re-initialize.\n",
      "  v.initialize(None, ctx, init, force_reinit=force_reinit)\n",
      "C:\\Users\\gooudan\\miniconda3\\envs\\dl\\lib\\site-packages\\mxnet\\gluon\\parameter.py:862: UserWarning: Parameter 'batchnorm3_running_mean' is already initialized, ignoring. Set force_reinit=True to re-initialize.\n",
      "  v.initialize(None, ctx, init, force_reinit=force_reinit)\n",
      "C:\\Users\\gooudan\\miniconda3\\envs\\dl\\lib\\site-packages\\mxnet\\gluon\\parameter.py:862: UserWarning: Parameter 'batchnorm3_running_var' is already initialized, ignoring. Set force_reinit=True to re-initialize.\n",
      "  v.initialize(None, ctx, init, force_reinit=force_reinit)\n",
      "C:\\Users\\gooudan\\miniconda3\\envs\\dl\\lib\\site-packages\\mxnet\\gluon\\parameter.py:862: UserWarning: Parameter 'batchnorm4_gamma' is already initialized, ignoring. Set force_reinit=True to re-initialize.\n",
      "  v.initialize(None, ctx, init, force_reinit=force_reinit)\n",
      "C:\\Users\\gooudan\\miniconda3\\envs\\dl\\lib\\site-packages\\mxnet\\gluon\\parameter.py:862: UserWarning: Parameter 'batchnorm4_beta' is already initialized, ignoring. Set force_reinit=True to re-initialize.\n",
      "  v.initialize(None, ctx, init, force_reinit=force_reinit)\n",
      "C:\\Users\\gooudan\\miniconda3\\envs\\dl\\lib\\site-packages\\mxnet\\gluon\\parameter.py:862: UserWarning: Parameter 'batchnorm4_running_mean' is already initialized, ignoring. Set force_reinit=True to re-initialize.\n",
      "  v.initialize(None, ctx, init, force_reinit=force_reinit)\n",
      "C:\\Users\\gooudan\\miniconda3\\envs\\dl\\lib\\site-packages\\mxnet\\gluon\\parameter.py:862: UserWarning: Parameter 'batchnorm4_running_var' is already initialized, ignoring. Set force_reinit=True to re-initialize.\n",
      "  v.initialize(None, ctx, init, force_reinit=force_reinit)\n",
      "C:\\Users\\gooudan\\miniconda3\\envs\\dl\\lib\\site-packages\\mxnet\\gluon\\parameter.py:862: UserWarning: Parameter 'conv4_weight' is already initialized, ignoring. Set force_reinit=True to re-initialize.\n",
      "  v.initialize(None, ctx, init, force_reinit=force_reinit)\n",
      "C:\\Users\\gooudan\\miniconda3\\envs\\dl\\lib\\site-packages\\mxnet\\gluon\\parameter.py:862: UserWarning: Parameter 'conv4_bias' is already initialized, ignoring. Set force_reinit=True to re-initialize.\n",
      "  v.initialize(None, ctx, init, force_reinit=force_reinit)\n",
      "C:\\Users\\gooudan\\miniconda3\\envs\\dl\\lib\\site-packages\\mxnet\\gluon\\parameter.py:862: UserWarning: Parameter 'batchnorm5_gamma' is already initialized, ignoring. Set force_reinit=True to re-initialize.\n",
      "  v.initialize(None, ctx, init, force_reinit=force_reinit)\n",
      "C:\\Users\\gooudan\\miniconda3\\envs\\dl\\lib\\site-packages\\mxnet\\gluon\\parameter.py:862: UserWarning: Parameter 'batchnorm5_beta' is already initialized, ignoring. Set force_reinit=True to re-initialize.\n",
      "  v.initialize(None, ctx, init, force_reinit=force_reinit)\n",
      "C:\\Users\\gooudan\\miniconda3\\envs\\dl\\lib\\site-packages\\mxnet\\gluon\\parameter.py:862: UserWarning: Parameter 'batchnorm5_running_mean' is already initialized, ignoring. Set force_reinit=True to re-initialize.\n",
      "  v.initialize(None, ctx, init, force_reinit=force_reinit)\n",
      "C:\\Users\\gooudan\\miniconda3\\envs\\dl\\lib\\site-packages\\mxnet\\gluon\\parameter.py:862: UserWarning: Parameter 'batchnorm5_running_var' is already initialized, ignoring. Set force_reinit=True to re-initialize.\n",
      "  v.initialize(None, ctx, init, force_reinit=force_reinit)\n",
      "C:\\Users\\gooudan\\miniconda3\\envs\\dl\\lib\\site-packages\\mxnet\\gluon\\parameter.py:862: UserWarning: Parameter 'conv5_weight' is already initialized, ignoring. Set force_reinit=True to re-initialize.\n",
      "  v.initialize(None, ctx, init, force_reinit=force_reinit)\n",
      "C:\\Users\\gooudan\\miniconda3\\envs\\dl\\lib\\site-packages\\mxnet\\gluon\\parameter.py:862: UserWarning: Parameter 'conv5_bias' is already initialized, ignoring. Set force_reinit=True to re-initialize.\n",
      "  v.initialize(None, ctx, init, force_reinit=force_reinit)\n",
      "C:\\Users\\gooudan\\miniconda3\\envs\\dl\\lib\\site-packages\\mxnet\\gluon\\parameter.py:862: UserWarning: Parameter 'batchnorm6_gamma' is already initialized, ignoring. Set force_reinit=True to re-initialize.\n",
      "  v.initialize(None, ctx, init, force_reinit=force_reinit)\n",
      "C:\\Users\\gooudan\\miniconda3\\envs\\dl\\lib\\site-packages\\mxnet\\gluon\\parameter.py:862: UserWarning: Parameter 'batchnorm6_beta' is already initialized, ignoring. Set force_reinit=True to re-initialize.\n",
      "  v.initialize(None, ctx, init, force_reinit=force_reinit)\n",
      "C:\\Users\\gooudan\\miniconda3\\envs\\dl\\lib\\site-packages\\mxnet\\gluon\\parameter.py:862: UserWarning: Parameter 'batchnorm6_running_mean' is already initialized, ignoring. Set force_reinit=True to re-initialize.\n",
      "  v.initialize(None, ctx, init, force_reinit=force_reinit)\n",
      "C:\\Users\\gooudan\\miniconda3\\envs\\dl\\lib\\site-packages\\mxnet\\gluon\\parameter.py:862: UserWarning: Parameter 'batchnorm6_running_var' is already initialized, ignoring. Set force_reinit=True to re-initialize.\n",
      "  v.initialize(None, ctx, init, force_reinit=force_reinit)\n",
      "C:\\Users\\gooudan\\miniconda3\\envs\\dl\\lib\\site-packages\\mxnet\\gluon\\parameter.py:862: UserWarning: Parameter 'conv6_weight' is already initialized, ignoring. Set force_reinit=True to re-initialize.\n",
      "  v.initialize(None, ctx, init, force_reinit=force_reinit)\n",
      "C:\\Users\\gooudan\\miniconda3\\envs\\dl\\lib\\site-packages\\mxnet\\gluon\\parameter.py:862: UserWarning: Parameter 'conv6_bias' is already initialized, ignoring. Set force_reinit=True to re-initialize.\n",
      "  v.initialize(None, ctx, init, force_reinit=force_reinit)\n",
      "C:\\Users\\gooudan\\miniconda3\\envs\\dl\\lib\\site-packages\\mxnet\\gluon\\parameter.py:862: UserWarning: Parameter 'batchnorm7_gamma' is already initialized, ignoring. Set force_reinit=True to re-initialize.\n",
      "  v.initialize(None, ctx, init, force_reinit=force_reinit)\n",
      "C:\\Users\\gooudan\\miniconda3\\envs\\dl\\lib\\site-packages\\mxnet\\gluon\\parameter.py:862: UserWarning: Parameter 'batchnorm7_beta' is already initialized, ignoring. Set force_reinit=True to re-initialize.\n",
      "  v.initialize(None, ctx, init, force_reinit=force_reinit)\n",
      "C:\\Users\\gooudan\\miniconda3\\envs\\dl\\lib\\site-packages\\mxnet\\gluon\\parameter.py:862: UserWarning: Parameter 'batchnorm7_running_mean' is already initialized, ignoring. Set force_reinit=True to re-initialize.\n",
      "  v.initialize(None, ctx, init, force_reinit=force_reinit)\n",
      "C:\\Users\\gooudan\\miniconda3\\envs\\dl\\lib\\site-packages\\mxnet\\gluon\\parameter.py:862: UserWarning: Parameter 'batchnorm7_running_var' is already initialized, ignoring. Set force_reinit=True to re-initialize.\n",
      "  v.initialize(None, ctx, init, force_reinit=force_reinit)\n",
      "C:\\Users\\gooudan\\miniconda3\\envs\\dl\\lib\\site-packages\\mxnet\\gluon\\parameter.py:862: UserWarning: Parameter 'conv7_weight' is already initialized, ignoring. Set force_reinit=True to re-initialize.\n",
      "  v.initialize(None, ctx, init, force_reinit=force_reinit)\n",
      "C:\\Users\\gooudan\\miniconda3\\envs\\dl\\lib\\site-packages\\mxnet\\gluon\\parameter.py:862: UserWarning: Parameter 'conv7_bias' is already initialized, ignoring. Set force_reinit=True to re-initialize.\n",
      "  v.initialize(None, ctx, init, force_reinit=force_reinit)\n",
      "C:\\Users\\gooudan\\miniconda3\\envs\\dl\\lib\\site-packages\\mxnet\\gluon\\parameter.py:862: UserWarning: Parameter 'batchnorm8_gamma' is already initialized, ignoring. Set force_reinit=True to re-initialize.\n",
      "  v.initialize(None, ctx, init, force_reinit=force_reinit)\n",
      "C:\\Users\\gooudan\\miniconda3\\envs\\dl\\lib\\site-packages\\mxnet\\gluon\\parameter.py:862: UserWarning: Parameter 'batchnorm8_beta' is already initialized, ignoring. Set force_reinit=True to re-initialize.\n",
      "  v.initialize(None, ctx, init, force_reinit=force_reinit)\n",
      "C:\\Users\\gooudan\\miniconda3\\envs\\dl\\lib\\site-packages\\mxnet\\gluon\\parameter.py:862: UserWarning: Parameter 'batchnorm8_running_mean' is already initialized, ignoring. Set force_reinit=True to re-initialize.\n",
      "  v.initialize(None, ctx, init, force_reinit=force_reinit)\n",
      "C:\\Users\\gooudan\\miniconda3\\envs\\dl\\lib\\site-packages\\mxnet\\gluon\\parameter.py:862: UserWarning: Parameter 'batchnorm8_running_var' is already initialized, ignoring. Set force_reinit=True to re-initialize.\n",
      "  v.initialize(None, ctx, init, force_reinit=force_reinit)\n",
      "C:\\Users\\gooudan\\miniconda3\\envs\\dl\\lib\\site-packages\\mxnet\\gluon\\parameter.py:862: UserWarning: Parameter 'conv8_weight' is already initialized, ignoring. Set force_reinit=True to re-initialize.\n",
      "  v.initialize(None, ctx, init, force_reinit=force_reinit)\n",
      "C:\\Users\\gooudan\\miniconda3\\envs\\dl\\lib\\site-packages\\mxnet\\gluon\\parameter.py:862: UserWarning: Parameter 'conv8_bias' is already initialized, ignoring. Set force_reinit=True to re-initialize.\n",
      "  v.initialize(None, ctx, init, force_reinit=force_reinit)\n",
      "C:\\Users\\gooudan\\miniconda3\\envs\\dl\\lib\\site-packages\\mxnet\\gluon\\parameter.py:862: UserWarning: Parameter 'batchnorm9_gamma' is already initialized, ignoring. Set force_reinit=True to re-initialize.\n",
      "  v.initialize(None, ctx, init, force_reinit=force_reinit)\n",
      "C:\\Users\\gooudan\\miniconda3\\envs\\dl\\lib\\site-packages\\mxnet\\gluon\\parameter.py:862: UserWarning: Parameter 'batchnorm9_beta' is already initialized, ignoring. Set force_reinit=True to re-initialize.\n",
      "  v.initialize(None, ctx, init, force_reinit=force_reinit)\n",
      "C:\\Users\\gooudan\\miniconda3\\envs\\dl\\lib\\site-packages\\mxnet\\gluon\\parameter.py:862: UserWarning: Parameter 'batchnorm9_running_mean' is already initialized, ignoring. Set force_reinit=True to re-initialize.\n",
      "  v.initialize(None, ctx, init, force_reinit=force_reinit)\n",
      "C:\\Users\\gooudan\\miniconda3\\envs\\dl\\lib\\site-packages\\mxnet\\gluon\\parameter.py:862: UserWarning: Parameter 'batchnorm9_running_var' is already initialized, ignoring. Set force_reinit=True to re-initialize.\n",
      "  v.initialize(None, ctx, init, force_reinit=force_reinit)\n",
      "C:\\Users\\gooudan\\miniconda3\\envs\\dl\\lib\\site-packages\\mxnet\\gluon\\parameter.py:862: UserWarning: Parameter 'conv9_weight' is already initialized, ignoring. Set force_reinit=True to re-initialize.\n",
      "  v.initialize(None, ctx, init, force_reinit=force_reinit)\n",
      "C:\\Users\\gooudan\\miniconda3\\envs\\dl\\lib\\site-packages\\mxnet\\gluon\\parameter.py:862: UserWarning: Parameter 'conv9_bias' is already initialized, ignoring. Set force_reinit=True to re-initialize.\n",
      "  v.initialize(None, ctx, init, force_reinit=force_reinit)\n",
      "C:\\Users\\gooudan\\miniconda3\\envs\\dl\\lib\\site-packages\\mxnet\\gluon\\parameter.py:862: UserWarning: Parameter 'batchnorm10_gamma' is already initialized, ignoring. Set force_reinit=True to re-initialize.\n",
      "  v.initialize(None, ctx, init, force_reinit=force_reinit)\n",
      "C:\\Users\\gooudan\\miniconda3\\envs\\dl\\lib\\site-packages\\mxnet\\gluon\\parameter.py:862: UserWarning: Parameter 'batchnorm10_beta' is already initialized, ignoring. Set force_reinit=True to re-initialize.\n",
      "  v.initialize(None, ctx, init, force_reinit=force_reinit)\n",
      "C:\\Users\\gooudan\\miniconda3\\envs\\dl\\lib\\site-packages\\mxnet\\gluon\\parameter.py:862: UserWarning: Parameter 'batchnorm10_running_mean' is already initialized, ignoring. Set force_reinit=True to re-initialize.\n",
      "  v.initialize(None, ctx, init, force_reinit=force_reinit)\n",
      "C:\\Users\\gooudan\\miniconda3\\envs\\dl\\lib\\site-packages\\mxnet\\gluon\\parameter.py:862: UserWarning: Parameter 'batchnorm10_running_var' is already initialized, ignoring. Set force_reinit=True to re-initialize.\n",
      "  v.initialize(None, ctx, init, force_reinit=force_reinit)\n",
      "C:\\Users\\gooudan\\miniconda3\\envs\\dl\\lib\\site-packages\\mxnet\\gluon\\parameter.py:862: UserWarning: Parameter 'conv10_weight' is already initialized, ignoring. Set force_reinit=True to re-initialize.\n",
      "  v.initialize(None, ctx, init, force_reinit=force_reinit)\n",
      "C:\\Users\\gooudan\\miniconda3\\envs\\dl\\lib\\site-packages\\mxnet\\gluon\\parameter.py:862: UserWarning: Parameter 'conv10_bias' is already initialized, ignoring. Set force_reinit=True to re-initialize.\n",
      "  v.initialize(None, ctx, init, force_reinit=force_reinit)\n",
      "C:\\Users\\gooudan\\miniconda3\\envs\\dl\\lib\\site-packages\\mxnet\\gluon\\parameter.py:862: UserWarning: Parameter 'batchnorm11_gamma' is already initialized, ignoring. Set force_reinit=True to re-initialize.\n",
      "  v.initialize(None, ctx, init, force_reinit=force_reinit)\n",
      "C:\\Users\\gooudan\\miniconda3\\envs\\dl\\lib\\site-packages\\mxnet\\gluon\\parameter.py:862: UserWarning: Parameter 'batchnorm11_beta' is already initialized, ignoring. Set force_reinit=True to re-initialize.\n",
      "  v.initialize(None, ctx, init, force_reinit=force_reinit)\n",
      "C:\\Users\\gooudan\\miniconda3\\envs\\dl\\lib\\site-packages\\mxnet\\gluon\\parameter.py:862: UserWarning: Parameter 'batchnorm11_running_mean' is already initialized, ignoring. Set force_reinit=True to re-initialize.\n",
      "  v.initialize(None, ctx, init, force_reinit=force_reinit)\n",
      "C:\\Users\\gooudan\\miniconda3\\envs\\dl\\lib\\site-packages\\mxnet\\gluon\\parameter.py:862: UserWarning: Parameter 'batchnorm11_running_var' is already initialized, ignoring. Set force_reinit=True to re-initialize.\n",
      "  v.initialize(None, ctx, init, force_reinit=force_reinit)\n",
      "C:\\Users\\gooudan\\miniconda3\\envs\\dl\\lib\\site-packages\\mxnet\\gluon\\parameter.py:862: UserWarning: Parameter 'conv11_weight' is already initialized, ignoring. Set force_reinit=True to re-initialize.\n",
      "  v.initialize(None, ctx, init, force_reinit=force_reinit)\n",
      "C:\\Users\\gooudan\\miniconda3\\envs\\dl\\lib\\site-packages\\mxnet\\gluon\\parameter.py:862: UserWarning: Parameter 'conv11_bias' is already initialized, ignoring. Set force_reinit=True to re-initialize.\n",
      "  v.initialize(None, ctx, init, force_reinit=force_reinit)\n",
      "C:\\Users\\gooudan\\miniconda3\\envs\\dl\\lib\\site-packages\\mxnet\\gluon\\parameter.py:862: UserWarning: Parameter 'batchnorm12_gamma' is already initialized, ignoring. Set force_reinit=True to re-initialize.\n",
      "  v.initialize(None, ctx, init, force_reinit=force_reinit)\n",
      "C:\\Users\\gooudan\\miniconda3\\envs\\dl\\lib\\site-packages\\mxnet\\gluon\\parameter.py:862: UserWarning: Parameter 'batchnorm12_beta' is already initialized, ignoring. Set force_reinit=True to re-initialize.\n",
      "  v.initialize(None, ctx, init, force_reinit=force_reinit)\n",
      "C:\\Users\\gooudan\\miniconda3\\envs\\dl\\lib\\site-packages\\mxnet\\gluon\\parameter.py:862: UserWarning: Parameter 'batchnorm12_running_mean' is already initialized, ignoring. Set force_reinit=True to re-initialize.\n",
      "  v.initialize(None, ctx, init, force_reinit=force_reinit)\n",
      "C:\\Users\\gooudan\\miniconda3\\envs\\dl\\lib\\site-packages\\mxnet\\gluon\\parameter.py:862: UserWarning: Parameter 'batchnorm12_running_var' is already initialized, ignoring. Set force_reinit=True to re-initialize.\n",
      "  v.initialize(None, ctx, init, force_reinit=force_reinit)\n",
      "C:\\Users\\gooudan\\miniconda3\\envs\\dl\\lib\\site-packages\\mxnet\\gluon\\parameter.py:862: UserWarning: Parameter 'conv12_weight' is already initialized, ignoring. Set force_reinit=True to re-initialize.\n",
      "  v.initialize(None, ctx, init, force_reinit=force_reinit)\n",
      "C:\\Users\\gooudan\\miniconda3\\envs\\dl\\lib\\site-packages\\mxnet\\gluon\\parameter.py:862: UserWarning: Parameter 'conv12_bias' is already initialized, ignoring. Set force_reinit=True to re-initialize.\n",
      "  v.initialize(None, ctx, init, force_reinit=force_reinit)\n",
      "C:\\Users\\gooudan\\miniconda3\\envs\\dl\\lib\\site-packages\\mxnet\\gluon\\parameter.py:862: UserWarning: Parameter 'batchnorm13_gamma' is already initialized, ignoring. Set force_reinit=True to re-initialize.\n",
      "  v.initialize(None, ctx, init, force_reinit=force_reinit)\n",
      "C:\\Users\\gooudan\\miniconda3\\envs\\dl\\lib\\site-packages\\mxnet\\gluon\\parameter.py:862: UserWarning: Parameter 'batchnorm13_beta' is already initialized, ignoring. Set force_reinit=True to re-initialize.\n",
      "  v.initialize(None, ctx, init, force_reinit=force_reinit)\n",
      "C:\\Users\\gooudan\\miniconda3\\envs\\dl\\lib\\site-packages\\mxnet\\gluon\\parameter.py:862: UserWarning: Parameter 'batchnorm13_running_mean' is already initialized, ignoring. Set force_reinit=True to re-initialize.\n",
      "  v.initialize(None, ctx, init, force_reinit=force_reinit)\n",
      "C:\\Users\\gooudan\\miniconda3\\envs\\dl\\lib\\site-packages\\mxnet\\gluon\\parameter.py:862: UserWarning: Parameter 'batchnorm13_running_var' is already initialized, ignoring. Set force_reinit=True to re-initialize.\n",
      "  v.initialize(None, ctx, init, force_reinit=force_reinit)\n",
      "C:\\Users\\gooudan\\miniconda3\\envs\\dl\\lib\\site-packages\\mxnet\\gluon\\parameter.py:862: UserWarning: Parameter 'conv13_weight' is already initialized, ignoring. Set force_reinit=True to re-initialize.\n",
      "  v.initialize(None, ctx, init, force_reinit=force_reinit)\n",
      "C:\\Users\\gooudan\\miniconda3\\envs\\dl\\lib\\site-packages\\mxnet\\gluon\\parameter.py:862: UserWarning: Parameter 'conv13_bias' is already initialized, ignoring. Set force_reinit=True to re-initialize.\n",
      "  v.initialize(None, ctx, init, force_reinit=force_reinit)\n",
      "C:\\Users\\gooudan\\miniconda3\\envs\\dl\\lib\\site-packages\\mxnet\\gluon\\parameter.py:862: UserWarning: Parameter 'batchnorm14_gamma' is already initialized, ignoring. Set force_reinit=True to re-initialize.\n",
      "  v.initialize(None, ctx, init, force_reinit=force_reinit)\n",
      "C:\\Users\\gooudan\\miniconda3\\envs\\dl\\lib\\site-packages\\mxnet\\gluon\\parameter.py:862: UserWarning: Parameter 'batchnorm14_beta' is already initialized, ignoring. Set force_reinit=True to re-initialize.\n",
      "  v.initialize(None, ctx, init, force_reinit=force_reinit)\n",
      "C:\\Users\\gooudan\\miniconda3\\envs\\dl\\lib\\site-packages\\mxnet\\gluon\\parameter.py:862: UserWarning: Parameter 'batchnorm14_running_mean' is already initialized, ignoring. Set force_reinit=True to re-initialize.\n",
      "  v.initialize(None, ctx, init, force_reinit=force_reinit)\n",
      "C:\\Users\\gooudan\\miniconda3\\envs\\dl\\lib\\site-packages\\mxnet\\gluon\\parameter.py:862: UserWarning: Parameter 'batchnorm14_running_var' is already initialized, ignoring. Set force_reinit=True to re-initialize.\n",
      "  v.initialize(None, ctx, init, force_reinit=force_reinit)\n",
      "C:\\Users\\gooudan\\miniconda3\\envs\\dl\\lib\\site-packages\\mxnet\\gluon\\parameter.py:862: UserWarning: Parameter 'conv14_weight' is already initialized, ignoring. Set force_reinit=True to re-initialize.\n",
      "  v.initialize(None, ctx, init, force_reinit=force_reinit)\n",
      "C:\\Users\\gooudan\\miniconda3\\envs\\dl\\lib\\site-packages\\mxnet\\gluon\\parameter.py:862: UserWarning: Parameter 'conv14_bias' is already initialized, ignoring. Set force_reinit=True to re-initialize.\n",
      "  v.initialize(None, ctx, init, force_reinit=force_reinit)\n",
      "C:\\Users\\gooudan\\miniconda3\\envs\\dl\\lib\\site-packages\\mxnet\\gluon\\parameter.py:862: UserWarning: Parameter 'batchnorm15_gamma' is already initialized, ignoring. Set force_reinit=True to re-initialize.\n",
      "  v.initialize(None, ctx, init, force_reinit=force_reinit)\n",
      "C:\\Users\\gooudan\\miniconda3\\envs\\dl\\lib\\site-packages\\mxnet\\gluon\\parameter.py:862: UserWarning: Parameter 'batchnorm15_beta' is already initialized, ignoring. Set force_reinit=True to re-initialize.\n",
      "  v.initialize(None, ctx, init, force_reinit=force_reinit)\n",
      "C:\\Users\\gooudan\\miniconda3\\envs\\dl\\lib\\site-packages\\mxnet\\gluon\\parameter.py:862: UserWarning: Parameter 'batchnorm15_running_mean' is already initialized, ignoring. Set force_reinit=True to re-initialize.\n",
      "  v.initialize(None, ctx, init, force_reinit=force_reinit)\n",
      "C:\\Users\\gooudan\\miniconda3\\envs\\dl\\lib\\site-packages\\mxnet\\gluon\\parameter.py:862: UserWarning: Parameter 'batchnorm15_running_var' is already initialized, ignoring. Set force_reinit=True to re-initialize.\n",
      "  v.initialize(None, ctx, init, force_reinit=force_reinit)\n",
      "C:\\Users\\gooudan\\miniconda3\\envs\\dl\\lib\\site-packages\\mxnet\\gluon\\parameter.py:862: UserWarning: Parameter 'conv15_weight' is already initialized, ignoring. Set force_reinit=True to re-initialize.\n",
      "  v.initialize(None, ctx, init, force_reinit=force_reinit)\n",
      "C:\\Users\\gooudan\\miniconda3\\envs\\dl\\lib\\site-packages\\mxnet\\gluon\\parameter.py:862: UserWarning: Parameter 'conv15_bias' is already initialized, ignoring. Set force_reinit=True to re-initialize.\n",
      "  v.initialize(None, ctx, init, force_reinit=force_reinit)\n",
      "C:\\Users\\gooudan\\miniconda3\\envs\\dl\\lib\\site-packages\\mxnet\\gluon\\parameter.py:862: UserWarning: Parameter 'batchnorm16_gamma' is already initialized, ignoring. Set force_reinit=True to re-initialize.\n",
      "  v.initialize(None, ctx, init, force_reinit=force_reinit)\n",
      "C:\\Users\\gooudan\\miniconda3\\envs\\dl\\lib\\site-packages\\mxnet\\gluon\\parameter.py:862: UserWarning: Parameter 'batchnorm16_beta' is already initialized, ignoring. Set force_reinit=True to re-initialize.\n",
      "  v.initialize(None, ctx, init, force_reinit=force_reinit)\n",
      "C:\\Users\\gooudan\\miniconda3\\envs\\dl\\lib\\site-packages\\mxnet\\gluon\\parameter.py:862: UserWarning: Parameter 'batchnorm16_running_mean' is already initialized, ignoring. Set force_reinit=True to re-initialize.\n",
      "  v.initialize(None, ctx, init, force_reinit=force_reinit)\n",
      "C:\\Users\\gooudan\\miniconda3\\envs\\dl\\lib\\site-packages\\mxnet\\gluon\\parameter.py:862: UserWarning: Parameter 'batchnorm16_running_var' is already initialized, ignoring. Set force_reinit=True to re-initialize.\n",
      "  v.initialize(None, ctx, init, force_reinit=force_reinit)\n",
      "C:\\Users\\gooudan\\miniconda3\\envs\\dl\\lib\\site-packages\\mxnet\\gluon\\parameter.py:862: UserWarning: Parameter 'conv16_weight' is already initialized, ignoring. Set force_reinit=True to re-initialize.\n",
      "  v.initialize(None, ctx, init, force_reinit=force_reinit)\n",
      "C:\\Users\\gooudan\\miniconda3\\envs\\dl\\lib\\site-packages\\mxnet\\gluon\\parameter.py:862: UserWarning: Parameter 'conv16_bias' is already initialized, ignoring. Set force_reinit=True to re-initialize.\n",
      "  v.initialize(None, ctx, init, force_reinit=force_reinit)\n",
      "C:\\Users\\gooudan\\miniconda3\\envs\\dl\\lib\\site-packages\\mxnet\\gluon\\parameter.py:862: UserWarning: Parameter 'batchnorm17_gamma' is already initialized, ignoring. Set force_reinit=True to re-initialize.\n",
      "  v.initialize(None, ctx, init, force_reinit=force_reinit)\n",
      "C:\\Users\\gooudan\\miniconda3\\envs\\dl\\lib\\site-packages\\mxnet\\gluon\\parameter.py:862: UserWarning: Parameter 'batchnorm17_beta' is already initialized, ignoring. Set force_reinit=True to re-initialize.\n",
      "  v.initialize(None, ctx, init, force_reinit=force_reinit)\n",
      "C:\\Users\\gooudan\\miniconda3\\envs\\dl\\lib\\site-packages\\mxnet\\gluon\\parameter.py:862: UserWarning: Parameter 'batchnorm17_running_mean' is already initialized, ignoring. Set force_reinit=True to re-initialize.\n",
      "  v.initialize(None, ctx, init, force_reinit=force_reinit)\n",
      "C:\\Users\\gooudan\\miniconda3\\envs\\dl\\lib\\site-packages\\mxnet\\gluon\\parameter.py:862: UserWarning: Parameter 'batchnorm17_running_var' is already initialized, ignoring. Set force_reinit=True to re-initialize.\n",
      "  v.initialize(None, ctx, init, force_reinit=force_reinit)\n",
      "C:\\Users\\gooudan\\miniconda3\\envs\\dl\\lib\\site-packages\\mxnet\\gluon\\parameter.py:862: UserWarning: Parameter 'conv17_weight' is already initialized, ignoring. Set force_reinit=True to re-initialize.\n",
      "  v.initialize(None, ctx, init, force_reinit=force_reinit)\n",
      "C:\\Users\\gooudan\\miniconda3\\envs\\dl\\lib\\site-packages\\mxnet\\gluon\\parameter.py:862: UserWarning: Parameter 'conv17_bias' is already initialized, ignoring. Set force_reinit=True to re-initialize.\n",
      "  v.initialize(None, ctx, init, force_reinit=force_reinit)\n",
      "C:\\Users\\gooudan\\miniconda3\\envs\\dl\\lib\\site-packages\\mxnet\\gluon\\parameter.py:862: UserWarning: Parameter 'batchnorm18_gamma' is already initialized, ignoring. Set force_reinit=True to re-initialize.\n",
      "  v.initialize(None, ctx, init, force_reinit=force_reinit)\n",
      "C:\\Users\\gooudan\\miniconda3\\envs\\dl\\lib\\site-packages\\mxnet\\gluon\\parameter.py:862: UserWarning: Parameter 'batchnorm18_beta' is already initialized, ignoring. Set force_reinit=True to re-initialize.\n",
      "  v.initialize(None, ctx, init, force_reinit=force_reinit)\n",
      "C:\\Users\\gooudan\\miniconda3\\envs\\dl\\lib\\site-packages\\mxnet\\gluon\\parameter.py:862: UserWarning: Parameter 'batchnorm18_running_mean' is already initialized, ignoring. Set force_reinit=True to re-initialize.\n",
      "  v.initialize(None, ctx, init, force_reinit=force_reinit)\n",
      "C:\\Users\\gooudan\\miniconda3\\envs\\dl\\lib\\site-packages\\mxnet\\gluon\\parameter.py:862: UserWarning: Parameter 'batchnorm18_running_var' is already initialized, ignoring. Set force_reinit=True to re-initialize.\n",
      "  v.initialize(None, ctx, init, force_reinit=force_reinit)\n",
      "C:\\Users\\gooudan\\miniconda3\\envs\\dl\\lib\\site-packages\\mxnet\\gluon\\parameter.py:862: UserWarning: Parameter 'conv18_weight' is already initialized, ignoring. Set force_reinit=True to re-initialize.\n",
      "  v.initialize(None, ctx, init, force_reinit=force_reinit)\n",
      "C:\\Users\\gooudan\\miniconda3\\envs\\dl\\lib\\site-packages\\mxnet\\gluon\\parameter.py:862: UserWarning: Parameter 'conv18_bias' is already initialized, ignoring. Set force_reinit=True to re-initialize.\n",
      "  v.initialize(None, ctx, init, force_reinit=force_reinit)\n",
      "C:\\Users\\gooudan\\miniconda3\\envs\\dl\\lib\\site-packages\\mxnet\\gluon\\parameter.py:862: UserWarning: Parameter 'batchnorm19_gamma' is already initialized, ignoring. Set force_reinit=True to re-initialize.\n",
      "  v.initialize(None, ctx, init, force_reinit=force_reinit)\n",
      "C:\\Users\\gooudan\\miniconda3\\envs\\dl\\lib\\site-packages\\mxnet\\gluon\\parameter.py:862: UserWarning: Parameter 'batchnorm19_beta' is already initialized, ignoring. Set force_reinit=True to re-initialize.\n",
      "  v.initialize(None, ctx, init, force_reinit=force_reinit)\n",
      "C:\\Users\\gooudan\\miniconda3\\envs\\dl\\lib\\site-packages\\mxnet\\gluon\\parameter.py:862: UserWarning: Parameter 'batchnorm19_running_mean' is already initialized, ignoring. Set force_reinit=True to re-initialize.\n",
      "  v.initialize(None, ctx, init, force_reinit=force_reinit)\n",
      "C:\\Users\\gooudan\\miniconda3\\envs\\dl\\lib\\site-packages\\mxnet\\gluon\\parameter.py:862: UserWarning: Parameter 'batchnorm19_running_var' is already initialized, ignoring. Set force_reinit=True to re-initialize.\n",
      "  v.initialize(None, ctx, init, force_reinit=force_reinit)\n",
      "C:\\Users\\gooudan\\miniconda3\\envs\\dl\\lib\\site-packages\\mxnet\\gluon\\parameter.py:862: UserWarning: Parameter 'conv19_weight' is already initialized, ignoring. Set force_reinit=True to re-initialize.\n",
      "  v.initialize(None, ctx, init, force_reinit=force_reinit)\n",
      "C:\\Users\\gooudan\\miniconda3\\envs\\dl\\lib\\site-packages\\mxnet\\gluon\\parameter.py:862: UserWarning: Parameter 'conv19_bias' is already initialized, ignoring. Set force_reinit=True to re-initialize.\n",
      "  v.initialize(None, ctx, init, force_reinit=force_reinit)\n",
      "C:\\Users\\gooudan\\miniconda3\\envs\\dl\\lib\\site-packages\\mxnet\\gluon\\parameter.py:862: UserWarning: Parameter 'batchnorm20_gamma' is already initialized, ignoring. Set force_reinit=True to re-initialize.\n",
      "  v.initialize(None, ctx, init, force_reinit=force_reinit)\n",
      "C:\\Users\\gooudan\\miniconda3\\envs\\dl\\lib\\site-packages\\mxnet\\gluon\\parameter.py:862: UserWarning: Parameter 'batchnorm20_beta' is already initialized, ignoring. Set force_reinit=True to re-initialize.\n",
      "  v.initialize(None, ctx, init, force_reinit=force_reinit)\n",
      "C:\\Users\\gooudan\\miniconda3\\envs\\dl\\lib\\site-packages\\mxnet\\gluon\\parameter.py:862: UserWarning: Parameter 'batchnorm20_running_mean' is already initialized, ignoring. Set force_reinit=True to re-initialize.\n",
      "  v.initialize(None, ctx, init, force_reinit=force_reinit)\n",
      "C:\\Users\\gooudan\\miniconda3\\envs\\dl\\lib\\site-packages\\mxnet\\gluon\\parameter.py:862: UserWarning: Parameter 'batchnorm20_running_var' is already initialized, ignoring. Set force_reinit=True to re-initialize.\n",
      "  v.initialize(None, ctx, init, force_reinit=force_reinit)\n",
      "C:\\Users\\gooudan\\miniconda3\\envs\\dl\\lib\\site-packages\\mxnet\\gluon\\parameter.py:862: UserWarning: Parameter 'conv20_weight' is already initialized, ignoring. Set force_reinit=True to re-initialize.\n",
      "  v.initialize(None, ctx, init, force_reinit=force_reinit)\n",
      "C:\\Users\\gooudan\\miniconda3\\envs\\dl\\lib\\site-packages\\mxnet\\gluon\\parameter.py:862: UserWarning: Parameter 'conv20_bias' is already initialized, ignoring. Set force_reinit=True to re-initialize.\n",
      "  v.initialize(None, ctx, init, force_reinit=force_reinit)\n",
      "C:\\Users\\gooudan\\miniconda3\\envs\\dl\\lib\\site-packages\\mxnet\\gluon\\parameter.py:862: UserWarning: Parameter 'batchnorm21_gamma' is already initialized, ignoring. Set force_reinit=True to re-initialize.\n",
      "  v.initialize(None, ctx, init, force_reinit=force_reinit)\n",
      "C:\\Users\\gooudan\\miniconda3\\envs\\dl\\lib\\site-packages\\mxnet\\gluon\\parameter.py:862: UserWarning: Parameter 'batchnorm21_beta' is already initialized, ignoring. Set force_reinit=True to re-initialize.\n",
      "  v.initialize(None, ctx, init, force_reinit=force_reinit)\n",
      "C:\\Users\\gooudan\\miniconda3\\envs\\dl\\lib\\site-packages\\mxnet\\gluon\\parameter.py:862: UserWarning: Parameter 'batchnorm21_running_mean' is already initialized, ignoring. Set force_reinit=True to re-initialize.\n",
      "  v.initialize(None, ctx, init, force_reinit=force_reinit)\n",
      "C:\\Users\\gooudan\\miniconda3\\envs\\dl\\lib\\site-packages\\mxnet\\gluon\\parameter.py:862: UserWarning: Parameter 'batchnorm21_running_var' is already initialized, ignoring. Set force_reinit=True to re-initialize.\n",
      "  v.initialize(None, ctx, init, force_reinit=force_reinit)\n",
      "C:\\Users\\gooudan\\miniconda3\\envs\\dl\\lib\\site-packages\\mxnet\\gluon\\parameter.py:862: UserWarning: Parameter 'conv21_weight' is already initialized, ignoring. Set force_reinit=True to re-initialize.\n",
      "  v.initialize(None, ctx, init, force_reinit=force_reinit)\n",
      "C:\\Users\\gooudan\\miniconda3\\envs\\dl\\lib\\site-packages\\mxnet\\gluon\\parameter.py:862: UserWarning: Parameter 'conv21_bias' is already initialized, ignoring. Set force_reinit=True to re-initialize.\n",
      "  v.initialize(None, ctx, init, force_reinit=force_reinit)\n",
      "C:\\Users\\gooudan\\miniconda3\\envs\\dl\\lib\\site-packages\\mxnet\\gluon\\parameter.py:862: UserWarning: Parameter 'batchnorm22_gamma' is already initialized, ignoring. Set force_reinit=True to re-initialize.\n",
      "  v.initialize(None, ctx, init, force_reinit=force_reinit)\n",
      "C:\\Users\\gooudan\\miniconda3\\envs\\dl\\lib\\site-packages\\mxnet\\gluon\\parameter.py:862: UserWarning: Parameter 'batchnorm22_beta' is already initialized, ignoring. Set force_reinit=True to re-initialize.\n",
      "  v.initialize(None, ctx, init, force_reinit=force_reinit)\n",
      "C:\\Users\\gooudan\\miniconda3\\envs\\dl\\lib\\site-packages\\mxnet\\gluon\\parameter.py:862: UserWarning: Parameter 'batchnorm22_running_mean' is already initialized, ignoring. Set force_reinit=True to re-initialize.\n",
      "  v.initialize(None, ctx, init, force_reinit=force_reinit)\n",
      "C:\\Users\\gooudan\\miniconda3\\envs\\dl\\lib\\site-packages\\mxnet\\gluon\\parameter.py:862: UserWarning: Parameter 'batchnorm22_running_var' is already initialized, ignoring. Set force_reinit=True to re-initialize.\n",
      "  v.initialize(None, ctx, init, force_reinit=force_reinit)\n",
      "C:\\Users\\gooudan\\miniconda3\\envs\\dl\\lib\\site-packages\\mxnet\\gluon\\parameter.py:862: UserWarning: Parameter 'conv22_weight' is already initialized, ignoring. Set force_reinit=True to re-initialize.\n",
      "  v.initialize(None, ctx, init, force_reinit=force_reinit)\n",
      "C:\\Users\\gooudan\\miniconda3\\envs\\dl\\lib\\site-packages\\mxnet\\gluon\\parameter.py:862: UserWarning: Parameter 'conv22_bias' is already initialized, ignoring. Set force_reinit=True to re-initialize.\n",
      "  v.initialize(None, ctx, init, force_reinit=force_reinit)\n",
      "C:\\Users\\gooudan\\miniconda3\\envs\\dl\\lib\\site-packages\\mxnet\\gluon\\parameter.py:862: UserWarning: Parameter 'batchnorm23_gamma' is already initialized, ignoring. Set force_reinit=True to re-initialize.\n",
      "  v.initialize(None, ctx, init, force_reinit=force_reinit)\n",
      "C:\\Users\\gooudan\\miniconda3\\envs\\dl\\lib\\site-packages\\mxnet\\gluon\\parameter.py:862: UserWarning: Parameter 'batchnorm23_beta' is already initialized, ignoring. Set force_reinit=True to re-initialize.\n",
      "  v.initialize(None, ctx, init, force_reinit=force_reinit)\n",
      "C:\\Users\\gooudan\\miniconda3\\envs\\dl\\lib\\site-packages\\mxnet\\gluon\\parameter.py:862: UserWarning: Parameter 'batchnorm23_running_mean' is already initialized, ignoring. Set force_reinit=True to re-initialize.\n",
      "  v.initialize(None, ctx, init, force_reinit=force_reinit)\n",
      "C:\\Users\\gooudan\\miniconda3\\envs\\dl\\lib\\site-packages\\mxnet\\gluon\\parameter.py:862: UserWarning: Parameter 'batchnorm23_running_var' is already initialized, ignoring. Set force_reinit=True to re-initialize.\n",
      "  v.initialize(None, ctx, init, force_reinit=force_reinit)\n",
      "C:\\Users\\gooudan\\miniconda3\\envs\\dl\\lib\\site-packages\\mxnet\\gluon\\parameter.py:862: UserWarning: Parameter 'dense0_weight' is already initialized, ignoring. Set force_reinit=True to re-initialize.\n",
      "  v.initialize(None, ctx, init, force_reinit=force_reinit)\n",
      "C:\\Users\\gooudan\\miniconda3\\envs\\dl\\lib\\site-packages\\mxnet\\gluon\\parameter.py:862: UserWarning: Parameter 'dense0_bias' is already initialized, ignoring. Set force_reinit=True to re-initialize.\n",
      "  v.initialize(None, ctx, init, force_reinit=force_reinit)\n"
     ]
    },
    {
     "name": "stdout",
     "output_type": "stream",
     "text": [
      "training on gpu(0)\n",
      "infer_shape error. Arguments:\n",
      "  data: (256, 10)\n"
     ]
    },
    {
     "ename": "ValueError",
     "evalue": "Deferred initialization failed because shape cannot be inferred. Error in operator conv23_fwd: [15:40:04] C:\\Jenkins\\workspace\\mxnet-tag\\mxnet\\src\\operator\\nn\\convolution.cc:152: Check failed: dshp.ndim() == 4U (2 vs. 4) : Input data should be 4D in batch-num_filter-y-x",
     "output_type": "error",
     "traceback": [
      "\u001B[1;31m---------------------------------------------------------------------------\u001B[0m",
      "\u001B[1;31mDeferredInitializationError\u001B[0m               Traceback (most recent call last)",
      "\u001B[1;32m~\\miniconda3\\envs\\dl\\lib\\site-packages\\mxnet\\gluon\\block.py\u001B[0m in \u001B[0;36mforward\u001B[1;34m(self, x, *args)\u001B[0m\n\u001B[0;32m    917\u001B[0m                 \u001B[1;32mtry\u001B[0m\u001B[1;33m:\u001B[0m\u001B[1;33m\u001B[0m\u001B[1;33m\u001B[0m\u001B[0m\n\u001B[1;32m--> 918\u001B[1;33m                     \u001B[0mparams\u001B[0m \u001B[1;33m=\u001B[0m \u001B[1;33m{\u001B[0m\u001B[0mi\u001B[0m\u001B[1;33m:\u001B[0m \u001B[0mj\u001B[0m\u001B[1;33m.\u001B[0m\u001B[0mdata\u001B[0m\u001B[1;33m(\u001B[0m\u001B[0mctx\u001B[0m\u001B[1;33m)\u001B[0m \u001B[1;32mfor\u001B[0m \u001B[0mi\u001B[0m\u001B[1;33m,\u001B[0m \u001B[0mj\u001B[0m \u001B[1;32min\u001B[0m \u001B[0mself\u001B[0m\u001B[1;33m.\u001B[0m\u001B[0m_reg_params\u001B[0m\u001B[1;33m.\u001B[0m\u001B[0mitems\u001B[0m\u001B[1;33m(\u001B[0m\u001B[1;33m)\u001B[0m\u001B[1;33m}\u001B[0m\u001B[1;33m\u001B[0m\u001B[1;33m\u001B[0m\u001B[0m\n\u001B[0m\u001B[0;32m    919\u001B[0m                 \u001B[1;32mexcept\u001B[0m \u001B[0mDeferredInitializationError\u001B[0m\u001B[1;33m:\u001B[0m\u001B[1;33m\u001B[0m\u001B[1;33m\u001B[0m\u001B[0m\n",
      "\u001B[1;32m~\\miniconda3\\envs\\dl\\lib\\site-packages\\mxnet\\gluon\\block.py\u001B[0m in \u001B[0;36m<dictcomp>\u001B[1;34m(.0)\u001B[0m\n\u001B[0;32m    917\u001B[0m                 \u001B[1;32mtry\u001B[0m\u001B[1;33m:\u001B[0m\u001B[1;33m\u001B[0m\u001B[1;33m\u001B[0m\u001B[0m\n\u001B[1;32m--> 918\u001B[1;33m                     \u001B[0mparams\u001B[0m \u001B[1;33m=\u001B[0m \u001B[1;33m{\u001B[0m\u001B[0mi\u001B[0m\u001B[1;33m:\u001B[0m \u001B[0mj\u001B[0m\u001B[1;33m.\u001B[0m\u001B[0mdata\u001B[0m\u001B[1;33m(\u001B[0m\u001B[0mctx\u001B[0m\u001B[1;33m)\u001B[0m \u001B[1;32mfor\u001B[0m \u001B[0mi\u001B[0m\u001B[1;33m,\u001B[0m \u001B[0mj\u001B[0m \u001B[1;32min\u001B[0m \u001B[0mself\u001B[0m\u001B[1;33m.\u001B[0m\u001B[0m_reg_params\u001B[0m\u001B[1;33m.\u001B[0m\u001B[0mitems\u001B[0m\u001B[1;33m(\u001B[0m\u001B[1;33m)\u001B[0m\u001B[1;33m}\u001B[0m\u001B[1;33m\u001B[0m\u001B[1;33m\u001B[0m\u001B[0m\n\u001B[0m\u001B[0;32m    919\u001B[0m                 \u001B[1;32mexcept\u001B[0m \u001B[0mDeferredInitializationError\u001B[0m\u001B[1;33m:\u001B[0m\u001B[1;33m\u001B[0m\u001B[1;33m\u001B[0m\u001B[0m\n",
      "\u001B[1;32m~\\miniconda3\\envs\\dl\\lib\\site-packages\\mxnet\\gluon\\parameter.py\u001B[0m in \u001B[0;36mdata\u001B[1;34m(self, ctx)\u001B[0m\n\u001B[0;32m    542\u001B[0m                                \"instead.\" % (self.name, str(ctx), self._stype))\n\u001B[1;32m--> 543\u001B[1;33m         \u001B[1;32mreturn\u001B[0m \u001B[0mself\u001B[0m\u001B[1;33m.\u001B[0m\u001B[0m_check_and_get\u001B[0m\u001B[1;33m(\u001B[0m\u001B[0mself\u001B[0m\u001B[1;33m.\u001B[0m\u001B[0m_data\u001B[0m\u001B[1;33m,\u001B[0m \u001B[0mctx\u001B[0m\u001B[1;33m)\u001B[0m\u001B[1;33m\u001B[0m\u001B[1;33m\u001B[0m\u001B[0m\n\u001B[0m\u001B[0;32m    544\u001B[0m \u001B[1;33m\u001B[0m\u001B[0m\n",
      "\u001B[1;32m~\\miniconda3\\envs\\dl\\lib\\site-packages\\mxnet\\gluon\\parameter.py\u001B[0m in \u001B[0;36m_check_and_get\u001B[1;34m(self, arr_list, ctx)\u001B[0m\n\u001B[0;32m    233\u001B[0m                 \u001B[1;34m\"You can also avoid deferred initialization by specifying in_units, \"\u001B[0m\u001B[0;31m \u001B[0m\u001B[0;31m\\\u001B[0m\u001B[1;33m\u001B[0m\u001B[1;33m\u001B[0m\u001B[0m\n\u001B[1;32m--> 234\u001B[1;33m                 \"num_features, etc., for network layers.\"%(self.name))\n\u001B[0m\u001B[0;32m    235\u001B[0m         raise RuntimeError(\n",
      "\u001B[1;31mDeferredInitializationError\u001B[0m: Parameter 'conv23_weight' has not been initialized yet because initialization was deferred. Actual initialization happens during the first forward pass. Please pass one batch of data through the network before accessing Parameters. You can also avoid deferred initialization by specifying in_units, num_features, etc., for network layers.",
      "\nDuring handling of the above exception, another exception occurred:\n",
      "\u001B[1;31mMXNetError\u001B[0m                                Traceback (most recent call last)",
      "\u001B[1;32m~\\miniconda3\\envs\\dl\\lib\\site-packages\\mxnet\\gluon\\block.py\u001B[0m in \u001B[0;36m_deferred_infer_shape\u001B[1;34m(self, *args)\u001B[0m\n\u001B[0;32m    796\u001B[0m         \u001B[1;32mtry\u001B[0m\u001B[1;33m:\u001B[0m\u001B[1;33m\u001B[0m\u001B[1;33m\u001B[0m\u001B[0m\n\u001B[1;32m--> 797\u001B[1;33m             \u001B[0mself\u001B[0m\u001B[1;33m.\u001B[0m\u001B[0minfer_shape\u001B[0m\u001B[1;33m(\u001B[0m\u001B[1;33m*\u001B[0m\u001B[0margs\u001B[0m\u001B[1;33m)\u001B[0m\u001B[1;33m\u001B[0m\u001B[1;33m\u001B[0m\u001B[0m\n\u001B[0m\u001B[0;32m    798\u001B[0m         \u001B[1;32mexcept\u001B[0m \u001B[0mException\u001B[0m \u001B[1;32mas\u001B[0m \u001B[0me\u001B[0m\u001B[1;33m:\u001B[0m\u001B[1;33m\u001B[0m\u001B[1;33m\u001B[0m\u001B[0m\n",
      "\u001B[1;32m~\\miniconda3\\envs\\dl\\lib\\site-packages\\mxnet\\gluon\\block.py\u001B[0m in \u001B[0;36minfer_shape\u001B[1;34m(self, *args)\u001B[0m\n\u001B[0;32m    869\u001B[0m         \u001B[1;34m\"\"\"Infers shape of Parameters from inputs.\"\"\"\u001B[0m\u001B[1;33m\u001B[0m\u001B[1;33m\u001B[0m\u001B[0m\n\u001B[1;32m--> 870\u001B[1;33m         \u001B[0mself\u001B[0m\u001B[1;33m.\u001B[0m\u001B[0m_infer_attrs\u001B[0m\u001B[1;33m(\u001B[0m\u001B[1;34m'infer_shape'\u001B[0m\u001B[1;33m,\u001B[0m \u001B[1;34m'shape'\u001B[0m\u001B[1;33m,\u001B[0m \u001B[1;33m*\u001B[0m\u001B[0margs\u001B[0m\u001B[1;33m)\u001B[0m\u001B[1;33m\u001B[0m\u001B[1;33m\u001B[0m\u001B[0m\n\u001B[0m\u001B[0;32m    871\u001B[0m \u001B[1;33m\u001B[0m\u001B[0m\n",
      "\u001B[1;32m~\\miniconda3\\envs\\dl\\lib\\site-packages\\mxnet\\gluon\\block.py\u001B[0m in \u001B[0;36m_infer_attrs\u001B[1;34m(self, infer_fn, attr, *args)\u001B[0m\n\u001B[0;32m    858\u001B[0m             arg_attrs, _, aux_attrs = getattr(out, infer_fn)(\n\u001B[1;32m--> 859\u001B[1;33m                 **{i.name: getattr(j, attr) for i, j in zip(inputs, args)})\n\u001B[0m\u001B[0;32m    860\u001B[0m             \u001B[1;32mif\u001B[0m \u001B[0marg_attrs\u001B[0m \u001B[1;32mis\u001B[0m \u001B[1;32mNone\u001B[0m\u001B[1;33m:\u001B[0m\u001B[1;33m\u001B[0m\u001B[1;33m\u001B[0m\u001B[0m\n",
      "\u001B[1;32m~\\miniconda3\\envs\\dl\\lib\\site-packages\\mxnet\\symbol\\symbol.py\u001B[0m in \u001B[0;36minfer_shape\u001B[1;34m(self, *args, **kwargs)\u001B[0m\n\u001B[0;32m   1075\u001B[0m         \u001B[1;32mtry\u001B[0m\u001B[1;33m:\u001B[0m\u001B[1;33m\u001B[0m\u001B[1;33m\u001B[0m\u001B[0m\n\u001B[1;32m-> 1076\u001B[1;33m             \u001B[0mres\u001B[0m \u001B[1;33m=\u001B[0m \u001B[0mself\u001B[0m\u001B[1;33m.\u001B[0m\u001B[0m_infer_shape_impl\u001B[0m\u001B[1;33m(\u001B[0m\u001B[1;32mFalse\u001B[0m\u001B[1;33m,\u001B[0m \u001B[1;33m*\u001B[0m\u001B[0margs\u001B[0m\u001B[1;33m,\u001B[0m \u001B[1;33m**\u001B[0m\u001B[0mkwargs\u001B[0m\u001B[1;33m)\u001B[0m\u001B[1;33m\u001B[0m\u001B[1;33m\u001B[0m\u001B[0m\n\u001B[0m\u001B[0;32m   1077\u001B[0m             \u001B[1;32mif\u001B[0m \u001B[0mres\u001B[0m\u001B[1;33m[\u001B[0m\u001B[1;36m1\u001B[0m\u001B[1;33m]\u001B[0m \u001B[1;32mis\u001B[0m \u001B[1;32mNone\u001B[0m\u001B[1;33m:\u001B[0m\u001B[1;33m\u001B[0m\u001B[1;33m\u001B[0m\u001B[0m\n",
      "\u001B[1;32m~\\miniconda3\\envs\\dl\\lib\\site-packages\\mxnet\\symbol\\symbol.py\u001B[0m in \u001B[0;36m_infer_shape_impl\u001B[1;34m(self, partial, *args, **kwargs)\u001B[0m\n\u001B[0;32m   1209\u001B[0m             \u001B[0mctypes\u001B[0m\u001B[1;33m.\u001B[0m\u001B[0mbyref\u001B[0m\u001B[1;33m(\u001B[0m\u001B[0maux_shape_data\u001B[0m\u001B[1;33m)\u001B[0m\u001B[1;33m,\u001B[0m\u001B[1;33m\u001B[0m\u001B[1;33m\u001B[0m\u001B[0m\n\u001B[1;32m-> 1210\u001B[1;33m             ctypes.byref(complete)))\n\u001B[0m\u001B[0;32m   1211\u001B[0m         \u001B[1;32mif\u001B[0m \u001B[0mcomplete\u001B[0m\u001B[1;33m.\u001B[0m\u001B[0mvalue\u001B[0m \u001B[1;33m!=\u001B[0m \u001B[1;36m0\u001B[0m\u001B[1;33m:\u001B[0m\u001B[1;33m\u001B[0m\u001B[1;33m\u001B[0m\u001B[0m\n",
      "\u001B[1;32m~\\miniconda3\\envs\\dl\\lib\\site-packages\\mxnet\\base.py\u001B[0m in \u001B[0;36mcheck_call\u001B[1;34m(ret)\u001B[0m\n\u001B[0;32m    252\u001B[0m     \u001B[1;32mif\u001B[0m \u001B[0mret\u001B[0m \u001B[1;33m!=\u001B[0m \u001B[1;36m0\u001B[0m\u001B[1;33m:\u001B[0m\u001B[1;33m\u001B[0m\u001B[1;33m\u001B[0m\u001B[0m\n\u001B[1;32m--> 253\u001B[1;33m         \u001B[1;32mraise\u001B[0m \u001B[0mMXNetError\u001B[0m\u001B[1;33m(\u001B[0m\u001B[0mpy_str\u001B[0m\u001B[1;33m(\u001B[0m\u001B[0m_LIB\u001B[0m\u001B[1;33m.\u001B[0m\u001B[0mMXGetLastError\u001B[0m\u001B[1;33m(\u001B[0m\u001B[1;33m)\u001B[0m\u001B[1;33m)\u001B[0m\u001B[1;33m)\u001B[0m\u001B[1;33m\u001B[0m\u001B[1;33m\u001B[0m\u001B[0m\n\u001B[0m\u001B[0;32m    254\u001B[0m \u001B[1;33m\u001B[0m\u001B[0m\n",
      "\u001B[1;31mMXNetError\u001B[0m: Error in operator conv23_fwd: [15:40:04] C:\\Jenkins\\workspace\\mxnet-tag\\mxnet\\src\\operator\\nn\\convolution.cc:152: Check failed: dshp.ndim() == 4U (2 vs. 4) : Input data should be 4D in batch-num_filter-y-x",
      "\nDuring handling of the above exception, another exception occurred:\n",
      "\u001B[1;31mValueError\u001B[0m                                Traceback (most recent call last)",
      "\u001B[1;32m<ipython-input-10-409dca7a4405>\u001B[0m in \u001B[0;36m<module>\u001B[1;34m\u001B[0m\n\u001B[0;32m      3\u001B[0m \u001B[0mtrainer\u001B[0m \u001B[1;33m=\u001B[0m \u001B[0mgluon\u001B[0m\u001B[1;33m.\u001B[0m\u001B[0mTrainer\u001B[0m\u001B[1;33m(\u001B[0m\u001B[0mnet\u001B[0m\u001B[1;33m.\u001B[0m\u001B[0mcollect_params\u001B[0m\u001B[1;33m(\u001B[0m\u001B[1;33m)\u001B[0m\u001B[1;33m,\u001B[0m \u001B[1;34m'sgd'\u001B[0m\u001B[1;33m,\u001B[0m \u001B[1;33m{\u001B[0m\u001B[1;34m'learning_rate'\u001B[0m\u001B[1;33m:\u001B[0m \u001B[0mlr\u001B[0m\u001B[1;33m}\u001B[0m\u001B[1;33m)\u001B[0m\u001B[1;33m\u001B[0m\u001B[1;33m\u001B[0m\u001B[0m\n\u001B[0;32m      4\u001B[0m \u001B[0mtrain_iter\u001B[0m\u001B[1;33m,\u001B[0m \u001B[0mtest_iter\u001B[0m \u001B[1;33m=\u001B[0m \u001B[0md2l\u001B[0m\u001B[1;33m.\u001B[0m\u001B[0mload_data_fashion_mnist\u001B[0m\u001B[1;33m(\u001B[0m\u001B[0mbatch_size\u001B[0m\u001B[1;33m,\u001B[0m \u001B[0mresize\u001B[0m\u001B[1;33m=\u001B[0m\u001B[1;36m96\u001B[0m\u001B[1;33m)\u001B[0m\u001B[1;33m\u001B[0m\u001B[1;33m\u001B[0m\u001B[0m\n\u001B[1;32m----> 5\u001B[1;33m \u001B[0md2l\u001B[0m\u001B[1;33m.\u001B[0m\u001B[0mtrain_ch5\u001B[0m\u001B[1;33m(\u001B[0m\u001B[0mnet\u001B[0m\u001B[1;33m,\u001B[0m \u001B[0mtrain_iter\u001B[0m\u001B[1;33m,\u001B[0m \u001B[0mtest_iter\u001B[0m\u001B[1;33m,\u001B[0m \u001B[0mbatch_size\u001B[0m\u001B[1;33m,\u001B[0m \u001B[0mtrainer\u001B[0m\u001B[1;33m,\u001B[0m \u001B[0mctx\u001B[0m\u001B[1;33m,\u001B[0m \u001B[0mnum_epochs\u001B[0m\u001B[1;33m)\u001B[0m\u001B[1;33m\u001B[0m\u001B[1;33m\u001B[0m\u001B[0m\n\u001B[0m",
      "\u001B[1;32m~\\Desktop\\deep_learning_learn_repository\\d2lzh\\utils.py\u001B[0m in \u001B[0;36mtrain_ch5\u001B[1;34m(net, train_iter, test_iter, batch_size, trainer, ctx, num_epochs)\u001B[0m\n\u001B[0;32m    686\u001B[0m             \u001B[0mX\u001B[0m\u001B[1;33m,\u001B[0m \u001B[0my\u001B[0m \u001B[1;33m=\u001B[0m \u001B[0mX\u001B[0m\u001B[1;33m.\u001B[0m\u001B[0mas_in_context\u001B[0m\u001B[1;33m(\u001B[0m\u001B[0mctx\u001B[0m\u001B[1;33m)\u001B[0m\u001B[1;33m,\u001B[0m \u001B[0my\u001B[0m\u001B[1;33m.\u001B[0m\u001B[0mas_in_context\u001B[0m\u001B[1;33m(\u001B[0m\u001B[0mctx\u001B[0m\u001B[1;33m)\u001B[0m\u001B[1;33m\u001B[0m\u001B[1;33m\u001B[0m\u001B[0m\n\u001B[0;32m    687\u001B[0m             \u001B[1;32mwith\u001B[0m \u001B[0mautograd\u001B[0m\u001B[1;33m.\u001B[0m\u001B[0mrecord\u001B[0m\u001B[1;33m(\u001B[0m\u001B[1;33m)\u001B[0m\u001B[1;33m:\u001B[0m\u001B[1;33m\u001B[0m\u001B[1;33m\u001B[0m\u001B[0m\n\u001B[1;32m--> 688\u001B[1;33m                 \u001B[0my_hat\u001B[0m \u001B[1;33m=\u001B[0m \u001B[0mnet\u001B[0m\u001B[1;33m(\u001B[0m\u001B[0mX\u001B[0m\u001B[1;33m)\u001B[0m\u001B[1;33m\u001B[0m\u001B[1;33m\u001B[0m\u001B[0m\n\u001B[0m\u001B[0;32m    689\u001B[0m                 \u001B[0ml\u001B[0m \u001B[1;33m=\u001B[0m \u001B[0mloss\u001B[0m\u001B[1;33m(\u001B[0m\u001B[0my_hat\u001B[0m\u001B[1;33m,\u001B[0m \u001B[0my\u001B[0m\u001B[1;33m)\u001B[0m\u001B[1;33m.\u001B[0m\u001B[0msum\u001B[0m\u001B[1;33m(\u001B[0m\u001B[1;33m)\u001B[0m\u001B[1;33m\u001B[0m\u001B[1;33m\u001B[0m\u001B[0m\n\u001B[0;32m    690\u001B[0m             \u001B[0ml\u001B[0m\u001B[1;33m.\u001B[0m\u001B[0mbackward\u001B[0m\u001B[1;33m(\u001B[0m\u001B[1;33m)\u001B[0m\u001B[1;33m\u001B[0m\u001B[1;33m\u001B[0m\u001B[0m\n",
      "\u001B[1;32m~\\miniconda3\\envs\\dl\\lib\\site-packages\\mxnet\\gluon\\block.py\u001B[0m in \u001B[0;36m__call__\u001B[1;34m(self, *args)\u001B[0m\n\u001B[0;32m    546\u001B[0m             \u001B[0mhook\u001B[0m\u001B[1;33m(\u001B[0m\u001B[0mself\u001B[0m\u001B[1;33m,\u001B[0m \u001B[0margs\u001B[0m\u001B[1;33m)\u001B[0m\u001B[1;33m\u001B[0m\u001B[1;33m\u001B[0m\u001B[0m\n\u001B[0;32m    547\u001B[0m \u001B[1;33m\u001B[0m\u001B[0m\n\u001B[1;32m--> 548\u001B[1;33m         \u001B[0mout\u001B[0m \u001B[1;33m=\u001B[0m \u001B[0mself\u001B[0m\u001B[1;33m.\u001B[0m\u001B[0mforward\u001B[0m\u001B[1;33m(\u001B[0m\u001B[1;33m*\u001B[0m\u001B[0margs\u001B[0m\u001B[1;33m)\u001B[0m\u001B[1;33m\u001B[0m\u001B[1;33m\u001B[0m\u001B[0m\n\u001B[0m\u001B[0;32m    549\u001B[0m \u001B[1;33m\u001B[0m\u001B[0m\n\u001B[0;32m    550\u001B[0m         \u001B[1;32mfor\u001B[0m \u001B[0mhook\u001B[0m \u001B[1;32min\u001B[0m \u001B[0mself\u001B[0m\u001B[1;33m.\u001B[0m\u001B[0m_forward_hooks\u001B[0m\u001B[1;33m.\u001B[0m\u001B[0mvalues\u001B[0m\u001B[1;33m(\u001B[0m\u001B[1;33m)\u001B[0m\u001B[1;33m:\u001B[0m\u001B[1;33m\u001B[0m\u001B[1;33m\u001B[0m\u001B[0m\n",
      "\u001B[1;32m~\\miniconda3\\envs\\dl\\lib\\site-packages\\mxnet\\gluon\\nn\\basic_layers.py\u001B[0m in \u001B[0;36mforward\u001B[1;34m(self, x)\u001B[0m\n\u001B[0;32m     51\u001B[0m     \u001B[1;32mdef\u001B[0m \u001B[0mforward\u001B[0m\u001B[1;33m(\u001B[0m\u001B[0mself\u001B[0m\u001B[1;33m,\u001B[0m \u001B[0mx\u001B[0m\u001B[1;33m)\u001B[0m\u001B[1;33m:\u001B[0m\u001B[1;33m\u001B[0m\u001B[1;33m\u001B[0m\u001B[0m\n\u001B[0;32m     52\u001B[0m         \u001B[1;32mfor\u001B[0m \u001B[0mblock\u001B[0m \u001B[1;32min\u001B[0m \u001B[0mself\u001B[0m\u001B[1;33m.\u001B[0m\u001B[0m_children\u001B[0m\u001B[1;33m.\u001B[0m\u001B[0mvalues\u001B[0m\u001B[1;33m(\u001B[0m\u001B[1;33m)\u001B[0m\u001B[1;33m:\u001B[0m\u001B[1;33m\u001B[0m\u001B[1;33m\u001B[0m\u001B[0m\n\u001B[1;32m---> 53\u001B[1;33m             \u001B[0mx\u001B[0m \u001B[1;33m=\u001B[0m \u001B[0mblock\u001B[0m\u001B[1;33m(\u001B[0m\u001B[0mx\u001B[0m\u001B[1;33m)\u001B[0m\u001B[1;33m\u001B[0m\u001B[1;33m\u001B[0m\u001B[0m\n\u001B[0m\u001B[0;32m     54\u001B[0m         \u001B[1;32mreturn\u001B[0m \u001B[0mx\u001B[0m\u001B[1;33m\u001B[0m\u001B[1;33m\u001B[0m\u001B[0m\n\u001B[0;32m     55\u001B[0m \u001B[1;33m\u001B[0m\u001B[0m\n",
      "\u001B[1;32m~\\miniconda3\\envs\\dl\\lib\\site-packages\\mxnet\\gluon\\block.py\u001B[0m in \u001B[0;36m__call__\u001B[1;34m(self, *args)\u001B[0m\n\u001B[0;32m    546\u001B[0m             \u001B[0mhook\u001B[0m\u001B[1;33m(\u001B[0m\u001B[0mself\u001B[0m\u001B[1;33m,\u001B[0m \u001B[0margs\u001B[0m\u001B[1;33m)\u001B[0m\u001B[1;33m\u001B[0m\u001B[1;33m\u001B[0m\u001B[0m\n\u001B[0;32m    547\u001B[0m \u001B[1;33m\u001B[0m\u001B[0m\n\u001B[1;32m--> 548\u001B[1;33m         \u001B[0mout\u001B[0m \u001B[1;33m=\u001B[0m \u001B[0mself\u001B[0m\u001B[1;33m.\u001B[0m\u001B[0mforward\u001B[0m\u001B[1;33m(\u001B[0m\u001B[1;33m*\u001B[0m\u001B[0margs\u001B[0m\u001B[1;33m)\u001B[0m\u001B[1;33m\u001B[0m\u001B[1;33m\u001B[0m\u001B[0m\n\u001B[0m\u001B[0;32m    549\u001B[0m \u001B[1;33m\u001B[0m\u001B[0m\n\u001B[0;32m    550\u001B[0m         \u001B[1;32mfor\u001B[0m \u001B[0mhook\u001B[0m \u001B[1;32min\u001B[0m \u001B[0mself\u001B[0m\u001B[1;33m.\u001B[0m\u001B[0m_forward_hooks\u001B[0m\u001B[1;33m.\u001B[0m\u001B[0mvalues\u001B[0m\u001B[1;33m(\u001B[0m\u001B[1;33m)\u001B[0m\u001B[1;33m:\u001B[0m\u001B[1;33m\u001B[0m\u001B[1;33m\u001B[0m\u001B[0m\n",
      "\u001B[1;32m<ipython-input-2-a41bd0c1fb3a>\u001B[0m in \u001B[0;36mforward\u001B[1;34m(self, X)\u001B[0m\n\u001B[0;32m      8\u001B[0m     \u001B[1;32mdef\u001B[0m \u001B[0mforward\u001B[0m\u001B[1;33m(\u001B[0m\u001B[0mself\u001B[0m\u001B[1;33m,\u001B[0m \u001B[0mX\u001B[0m\u001B[1;33m)\u001B[0m\u001B[1;33m:\u001B[0m\u001B[1;33m\u001B[0m\u001B[1;33m\u001B[0m\u001B[0m\n\u001B[0;32m      9\u001B[0m         \u001B[1;32mfor\u001B[0m \u001B[0mblk\u001B[0m \u001B[1;32min\u001B[0m \u001B[0mself\u001B[0m\u001B[1;33m.\u001B[0m\u001B[0mnet\u001B[0m\u001B[1;33m:\u001B[0m\u001B[1;33m\u001B[0m\u001B[1;33m\u001B[0m\u001B[0m\n\u001B[1;32m---> 10\u001B[1;33m             \u001B[0mY\u001B[0m \u001B[1;33m=\u001B[0m \u001B[0mblk\u001B[0m\u001B[1;33m(\u001B[0m\u001B[0mX\u001B[0m\u001B[1;33m)\u001B[0m\u001B[1;33m\u001B[0m\u001B[1;33m\u001B[0m\u001B[0m\n\u001B[0m\u001B[0;32m     11\u001B[0m             \u001B[0mX\u001B[0m \u001B[1;33m=\u001B[0m \u001B[0mnd\u001B[0m\u001B[1;33m.\u001B[0m\u001B[0mconcat\u001B[0m\u001B[1;33m(\u001B[0m\u001B[0mX\u001B[0m\u001B[1;33m,\u001B[0m \u001B[0mY\u001B[0m\u001B[1;33m,\u001B[0m \u001B[0mdim\u001B[0m\u001B[1;33m=\u001B[0m\u001B[1;36m1\u001B[0m\u001B[1;33m)\u001B[0m\u001B[1;33m\u001B[0m\u001B[1;33m\u001B[0m\u001B[0m\n\u001B[0;32m     12\u001B[0m         \u001B[1;32mreturn\u001B[0m \u001B[0mX\u001B[0m\u001B[1;33m\u001B[0m\u001B[1;33m\u001B[0m\u001B[0m\n",
      "\u001B[1;32m~\\miniconda3\\envs\\dl\\lib\\site-packages\\mxnet\\gluon\\block.py\u001B[0m in \u001B[0;36m__call__\u001B[1;34m(self, *args)\u001B[0m\n\u001B[0;32m    546\u001B[0m             \u001B[0mhook\u001B[0m\u001B[1;33m(\u001B[0m\u001B[0mself\u001B[0m\u001B[1;33m,\u001B[0m \u001B[0margs\u001B[0m\u001B[1;33m)\u001B[0m\u001B[1;33m\u001B[0m\u001B[1;33m\u001B[0m\u001B[0m\n\u001B[0;32m    547\u001B[0m \u001B[1;33m\u001B[0m\u001B[0m\n\u001B[1;32m--> 548\u001B[1;33m         \u001B[0mout\u001B[0m \u001B[1;33m=\u001B[0m \u001B[0mself\u001B[0m\u001B[1;33m.\u001B[0m\u001B[0mforward\u001B[0m\u001B[1;33m(\u001B[0m\u001B[1;33m*\u001B[0m\u001B[0margs\u001B[0m\u001B[1;33m)\u001B[0m\u001B[1;33m\u001B[0m\u001B[1;33m\u001B[0m\u001B[0m\n\u001B[0m\u001B[0;32m    549\u001B[0m \u001B[1;33m\u001B[0m\u001B[0m\n\u001B[0;32m    550\u001B[0m         \u001B[1;32mfor\u001B[0m \u001B[0mhook\u001B[0m \u001B[1;32min\u001B[0m \u001B[0mself\u001B[0m\u001B[1;33m.\u001B[0m\u001B[0m_forward_hooks\u001B[0m\u001B[1;33m.\u001B[0m\u001B[0mvalues\u001B[0m\u001B[1;33m(\u001B[0m\u001B[1;33m)\u001B[0m\u001B[1;33m:\u001B[0m\u001B[1;33m\u001B[0m\u001B[1;33m\u001B[0m\u001B[0m\n",
      "\u001B[1;32m~\\miniconda3\\envs\\dl\\lib\\site-packages\\mxnet\\gluon\\nn\\basic_layers.py\u001B[0m in \u001B[0;36mforward\u001B[1;34m(self, x)\u001B[0m\n\u001B[0;32m     51\u001B[0m     \u001B[1;32mdef\u001B[0m \u001B[0mforward\u001B[0m\u001B[1;33m(\u001B[0m\u001B[0mself\u001B[0m\u001B[1;33m,\u001B[0m \u001B[0mx\u001B[0m\u001B[1;33m)\u001B[0m\u001B[1;33m:\u001B[0m\u001B[1;33m\u001B[0m\u001B[1;33m\u001B[0m\u001B[0m\n\u001B[0;32m     52\u001B[0m         \u001B[1;32mfor\u001B[0m \u001B[0mblock\u001B[0m \u001B[1;32min\u001B[0m \u001B[0mself\u001B[0m\u001B[1;33m.\u001B[0m\u001B[0m_children\u001B[0m\u001B[1;33m.\u001B[0m\u001B[0mvalues\u001B[0m\u001B[1;33m(\u001B[0m\u001B[1;33m)\u001B[0m\u001B[1;33m:\u001B[0m\u001B[1;33m\u001B[0m\u001B[1;33m\u001B[0m\u001B[0m\n\u001B[1;32m---> 53\u001B[1;33m             \u001B[0mx\u001B[0m \u001B[1;33m=\u001B[0m \u001B[0mblock\u001B[0m\u001B[1;33m(\u001B[0m\u001B[0mx\u001B[0m\u001B[1;33m)\u001B[0m\u001B[1;33m\u001B[0m\u001B[1;33m\u001B[0m\u001B[0m\n\u001B[0m\u001B[0;32m     54\u001B[0m         \u001B[1;32mreturn\u001B[0m \u001B[0mx\u001B[0m\u001B[1;33m\u001B[0m\u001B[1;33m\u001B[0m\u001B[0m\n\u001B[0;32m     55\u001B[0m \u001B[1;33m\u001B[0m\u001B[0m\n",
      "\u001B[1;32m~\\miniconda3\\envs\\dl\\lib\\site-packages\\mxnet\\gluon\\block.py\u001B[0m in \u001B[0;36m__call__\u001B[1;34m(self, *args)\u001B[0m\n\u001B[0;32m    546\u001B[0m             \u001B[0mhook\u001B[0m\u001B[1;33m(\u001B[0m\u001B[0mself\u001B[0m\u001B[1;33m,\u001B[0m \u001B[0margs\u001B[0m\u001B[1;33m)\u001B[0m\u001B[1;33m\u001B[0m\u001B[1;33m\u001B[0m\u001B[0m\n\u001B[0;32m    547\u001B[0m \u001B[1;33m\u001B[0m\u001B[0m\n\u001B[1;32m--> 548\u001B[1;33m         \u001B[0mout\u001B[0m \u001B[1;33m=\u001B[0m \u001B[0mself\u001B[0m\u001B[1;33m.\u001B[0m\u001B[0mforward\u001B[0m\u001B[1;33m(\u001B[0m\u001B[1;33m*\u001B[0m\u001B[0margs\u001B[0m\u001B[1;33m)\u001B[0m\u001B[1;33m\u001B[0m\u001B[1;33m\u001B[0m\u001B[0m\n\u001B[0m\u001B[0;32m    549\u001B[0m \u001B[1;33m\u001B[0m\u001B[0m\n\u001B[0;32m    550\u001B[0m         \u001B[1;32mfor\u001B[0m \u001B[0mhook\u001B[0m \u001B[1;32min\u001B[0m \u001B[0mself\u001B[0m\u001B[1;33m.\u001B[0m\u001B[0m_forward_hooks\u001B[0m\u001B[1;33m.\u001B[0m\u001B[0mvalues\u001B[0m\u001B[1;33m(\u001B[0m\u001B[1;33m)\u001B[0m\u001B[1;33m:\u001B[0m\u001B[1;33m\u001B[0m\u001B[1;33m\u001B[0m\u001B[0m\n",
      "\u001B[1;32m~\\miniconda3\\envs\\dl\\lib\\site-packages\\mxnet\\gluon\\block.py\u001B[0m in \u001B[0;36mforward\u001B[1;34m(self, x, *args)\u001B[0m\n\u001B[0;32m    918\u001B[0m                     \u001B[0mparams\u001B[0m \u001B[1;33m=\u001B[0m \u001B[1;33m{\u001B[0m\u001B[0mi\u001B[0m\u001B[1;33m:\u001B[0m \u001B[0mj\u001B[0m\u001B[1;33m.\u001B[0m\u001B[0mdata\u001B[0m\u001B[1;33m(\u001B[0m\u001B[0mctx\u001B[0m\u001B[1;33m)\u001B[0m \u001B[1;32mfor\u001B[0m \u001B[0mi\u001B[0m\u001B[1;33m,\u001B[0m \u001B[0mj\u001B[0m \u001B[1;32min\u001B[0m \u001B[0mself\u001B[0m\u001B[1;33m.\u001B[0m\u001B[0m_reg_params\u001B[0m\u001B[1;33m.\u001B[0m\u001B[0mitems\u001B[0m\u001B[1;33m(\u001B[0m\u001B[1;33m)\u001B[0m\u001B[1;33m}\u001B[0m\u001B[1;33m\u001B[0m\u001B[1;33m\u001B[0m\u001B[0m\n\u001B[0;32m    919\u001B[0m                 \u001B[1;32mexcept\u001B[0m \u001B[0mDeferredInitializationError\u001B[0m\u001B[1;33m:\u001B[0m\u001B[1;33m\u001B[0m\u001B[1;33m\u001B[0m\u001B[0m\n\u001B[1;32m--> 920\u001B[1;33m                     \u001B[0mself\u001B[0m\u001B[1;33m.\u001B[0m\u001B[0m_deferred_infer_shape\u001B[0m\u001B[1;33m(\u001B[0m\u001B[0mx\u001B[0m\u001B[1;33m,\u001B[0m \u001B[1;33m*\u001B[0m\u001B[0margs\u001B[0m\u001B[1;33m)\u001B[0m\u001B[1;33m\u001B[0m\u001B[1;33m\u001B[0m\u001B[0m\n\u001B[0m\u001B[0;32m    921\u001B[0m                     \u001B[1;32mfor\u001B[0m \u001B[0m_\u001B[0m\u001B[1;33m,\u001B[0m \u001B[0mi\u001B[0m \u001B[1;32min\u001B[0m \u001B[0mself\u001B[0m\u001B[1;33m.\u001B[0m\u001B[0mparams\u001B[0m\u001B[1;33m.\u001B[0m\u001B[0mitems\u001B[0m\u001B[1;33m(\u001B[0m\u001B[1;33m)\u001B[0m\u001B[1;33m:\u001B[0m\u001B[1;33m\u001B[0m\u001B[1;33m\u001B[0m\u001B[0m\n\u001B[0;32m    922\u001B[0m                         \u001B[0mi\u001B[0m\u001B[1;33m.\u001B[0m\u001B[0m_finish_deferred_init\u001B[0m\u001B[1;33m(\u001B[0m\u001B[1;33m)\u001B[0m\u001B[1;33m\u001B[0m\u001B[1;33m\u001B[0m\u001B[0m\n",
      "\u001B[1;32m~\\miniconda3\\envs\\dl\\lib\\site-packages\\mxnet\\gluon\\block.py\u001B[0m in \u001B[0;36m_deferred_infer_shape\u001B[1;34m(self, *args)\u001B[0m\n\u001B[0;32m    799\u001B[0m             \u001B[0merror_msg\u001B[0m \u001B[1;33m=\u001B[0m \u001B[1;34m\"Deferred initialization failed because shape\"\u001B[0m\u001B[0;31m\\\u001B[0m\u001B[1;33m\u001B[0m\u001B[1;33m\u001B[0m\u001B[0m\n\u001B[0;32m    800\u001B[0m                         \u001B[1;34m\" cannot be inferred. {}\"\u001B[0m\u001B[1;33m.\u001B[0m\u001B[0mformat\u001B[0m\u001B[1;33m(\u001B[0m\u001B[0me\u001B[0m\u001B[1;33m)\u001B[0m\u001B[1;33m\u001B[0m\u001B[1;33m\u001B[0m\u001B[0m\n\u001B[1;32m--> 801\u001B[1;33m             \u001B[1;32mraise\u001B[0m \u001B[0mValueError\u001B[0m\u001B[1;33m(\u001B[0m\u001B[0merror_msg\u001B[0m\u001B[1;33m)\u001B[0m\u001B[1;33m\u001B[0m\u001B[1;33m\u001B[0m\u001B[0m\n\u001B[0m\u001B[0;32m    802\u001B[0m \u001B[1;33m\u001B[0m\u001B[0m\n\u001B[0;32m    803\u001B[0m     \u001B[1;32mdef\u001B[0m \u001B[0m_call_cached_op\u001B[0m\u001B[1;33m(\u001B[0m\u001B[0mself\u001B[0m\u001B[1;33m,\u001B[0m \u001B[1;33m*\u001B[0m\u001B[0margs\u001B[0m\u001B[1;33m)\u001B[0m\u001B[1;33m:\u001B[0m\u001B[1;33m\u001B[0m\u001B[1;33m\u001B[0m\u001B[0m\n",
      "\u001B[1;31mValueError\u001B[0m: Deferred initialization failed because shape cannot be inferred. Error in operator conv23_fwd: [15:40:04] C:\\Jenkins\\workspace\\mxnet-tag\\mxnet\\src\\operator\\nn\\convolution.cc:152: Check failed: dshp.ndim() == 4U (2 vs. 4) : Input data should be 4D in batch-num_filter-y-x"
     ]
    }
   ],
   "source": [
    "lr, num_epochs, batch_size, ctx = 0.1, 5, 256, d2l.try_gpu()\n",
    "net.initialize(ctx=ctx, init=init.Xavier())\n",
    "trainer = gluon.Trainer(net.collect_params(), 'sgd', {'learning_rate': lr})\n",
    "train_iter, test_iter = d2l.load_data_fashion_mnist(batch_size, resize=96)\n",
    "d2l.train_ch5(net, train_iter, test_iter, batch_size, trainer, ctx, num_epochs)"
   ],
   "metadata": {
    "collapsed": false,
    "pycharm": {
     "name": "#%%\n"
    }
   }
  }
 ],
 "metadata": {
  "kernelspec": {
   "display_name": "Python 3",
   "language": "python",
   "name": "python3"
  },
  "language_info": {
   "codemirror_mode": {
    "name": "ipython",
    "version": 2
   },
   "file_extension": ".py",
   "mimetype": "text/x-python",
   "name": "python",
   "nbconvert_exporter": "python",
   "pygments_lexer": "ipython2",
   "version": "2.7.6"
  }
 },
 "nbformat": 4,
 "nbformat_minor": 0
}